{
 "cells": [
  {
   "cell_type": "code",
   "outputs": [
    {
     "name": "stdout",
     "output_type": "stream",
     "text": [
      "hello\n"
     ]
    }
   ],
   "source": [
    "print(\"hello\")"
   ],
   "metadata": {
    "collapsed": false,
    "ExecuteTime": {
     "end_time": "2024-03-25T09:45:44.372847Z",
     "start_time": "2024-03-25T09:45:44.350794Z"
    }
   },
   "id": "3ca908d242388a1",
   "execution_count": 1
  },
  {
   "cell_type": "code",
   "outputs": [],
   "source": [],
   "metadata": {
    "collapsed": false
   },
   "id": "3b4a763ce71b0af0"
  },
  {
   "cell_type": "code",
   "outputs": [
    {
     "name": "stdout",
     "output_type": "stream",
     "text": [
      "西南林业大学学业成绩表\n",
      "学院: 大数据与智能工程学院 专业: 计算机科学与技术 班级: 计算机科学与技术2020\n",
      "学号: 20180152016 姓名: 肖晨亮\n",
      "课 程 性 学 成 课 程 性 学 成 课 程 性 学 成\n",
      "名 称 质 分 绩 名 称 质 分 绩 名 称 质 分 绩\n",
      "2018-2019学年 第1学期 数字逻辑 必修 3 92 综合实习二 必修 3.0 88\n",
      "大学计算机基础与计算思维 必修 3.0 84 体育(3) 必修 1 99 等级考试成绩\n",
      "大学生心理健康教育 必修 2.0 96 形势与政策(3) 必修 0.25 90 CET-6 480.00\n",
      "大学生职业生涯规划 必修 1.0 87 英语(3) 必修 4 86 CET-4 463.00\n",
      "高等代数与几何(1) 必修 4.0 98 2021-2022学年 第2学期 以 下 空 白\n",
      "军事理论及训练 必修 4.0 79 Python程序设计 必修 4 72\n",
      "林学概论 必修 1.0 85 Web程序设计 必修 4 88\n",
      "数学分析(1) 必修 6.0 98 Web程序设计实习 必修 1.0 88\n",
      "思想道德修养与法律基础 必修 2.0 90 计算机图形学 必修 2.0 91\n",
      "体育(1) 必修 1.0 81 计算机组成原理 必修 3 90\n",
      "英语(1) 必修 4.0 88 毛泽东思想和中国特色社会主义理论体系概论 必修 4 85\n",
      "2018-2019学年 第2学期 数据结构 必修 4.0 89\n",
      "C语言程序设计 必修 4.0 95 数据结构实习 必修 1.0 94\n",
      "C语言程序设计实习 必修 1.0 99 体育(4) 必修 1 90\n",
      "大学生创新创业基础 必修 2.0 83 无人机技术与应用 公修 2 82\n",
      "高等代数与几何(2) 必修 4.0 97 形势与政策(4) 必修 0.25 85\n",
      "数学分析(2) 必修 6.0 96 英语(4) 必修 4 78\n",
      "体育(2) 必修 1.0 90 2022-2023学年 第1学期\n",
      "英语(2) 必修 4.0 71 操作系统原理 必修 4.0 98\n",
      "中国近现代史纲要 必修 3.0 77 考研英语技巧与实训 公修 2.0 84\n",
      "2021-2022学年 第1学期 面向对象程序设计(Python)实习 必修 1 81\n",
      "Java程序设计 必修 4.0 92 数据仓库与数据挖掘 选修 2.0 80\n",
      "Linux应用 必修 2 92 形势与政策(5) 必修 0.25 85\n",
      "UI设计 必修 4.0 91 遥感原理与遥感图像处理 选修 3.0 92\n",
      "UI设计实习 必修 1.0 76 移动应用开发 必修 3.0 98\n",
      "大学物理II 必修 4 83 综合实习一 必修 2.0 88\n",
      "电路与模拟电子技术 必修 3 92 2022-2023学年 第2学期\n",
      "概率论与数理统计B 必修 3 95 编译技术 必修 3 70\n",
      "计算机科学与技术导论 必修 1 84 大数据平台技术 选修 3.0 96\n",
      "计算机网络 必修 3 92 就业指导 必修 2 90\n",
      "计算机网络实习 必修 0.5 96 软件工程 必修 3.0 85\n",
      "离散数学 必修 4 97 算法设计与分析 必修 3.0 94\n",
      "马克思主义基本原理概论 必修 3 92 形势与政策(6) 必修 0.25 85\n",
      "数据库原理及应用 必修 4 81 中国古典小说巅峰-四大名著鉴赏 公修 2.0 98\n",
      "毕业论文(设计)题目\n",
      "学分绩点=∑(课程绩点×课程学分)/∑课程学分\n",
      "成绩:\n",
      "学分成绩 88.65 学分绩点 3.53\n",
      "学分成绩=∑(课程成绩×课程学分)/∑课程学分\n",
      "获得总学分 164.5 其中包括 必修 150.5 专业选修 8.0 公共选修 6.0\n",
      "审核: 院系(盖章): 教务处(盖章): 打印日期:2023/09/11 第1页,共1页\n"
     ]
    }
   ],
   "source": [
    "import pdfplumber\n",
    "\n",
    "with pdfplumber.open(\"D:\\\\file\\\\flask_learn\\\\uploads\\\\score_20180152016_2023-09-11_03_58_00.pdf\") as pdf:\n",
    "    for page in pdf.pages:\n",
    "        text = page.extract_text()\n",
    "        print(text)"
   ],
   "metadata": {
    "collapsed": true,
    "ExecuteTime": {
     "end_time": "2024-03-25T09:45:50.851012Z",
     "start_time": "2024-03-25T09:45:50.194899Z"
    }
   },
   "id": "initial_id",
   "execution_count": 2
  },
  {
   "cell_type": "code",
   "outputs": [],
   "source": [],
   "metadata": {
    "collapsed": false
   },
   "id": "b7871d59ff071b68"
  },
  {
   "cell_type": "code",
   "outputs": [
    {
     "name": "stdout",
     "output_type": "stream",
     "text": [
      "['课 程\\n名 称', None, None, '性\\n质', '学\\n分', '成\\n绩', '课 程\\n名 称', None, None, None, '性\\n质', '学\\n分', None, '成\\n绩', '课 程\\n名 称', None, None, '性\\n质', '学\\n分', '成\\n绩']\n",
      "['2018-2019学年 第1学期', None, None, None, None, None, '数字逻辑', None, None, None, '必修', '3', None, '92', '综合实习二', None, None, '必修', '3.0', '88']\n",
      "['大学计算机基础与计算思维', None, None, '必修', '3.0', '84', '体育(3)', None, None, None, '必修', '1', None, '99', '等级考试成绩', None, None, None, None, None]\n",
      "['大学生心理健康教育', None, None, '必修', '2.0', '96', '形势与政策(3)', None, None, None, '必修', '0.25', None, '90', 'CET-6', None, None, '', '', '480.00']\n",
      "['大学生职业生涯规划', None, None, '必修', '1.0', '87', '英语(3)', None, None, None, '必修', '4', None, '86', 'CET-4', None, None, '', '', '463.00']\n",
      "['高等代数与几何(1)', None, None, '必修', '4.0', '98', '2021-2022学年 第2学期', None, None, None, None, None, None, None, '以 下 空 白', None, None, None, None, None]\n",
      "['军事理论及训练', None, None, '必修', '4.0', '79', 'Python程序设计', None, None, None, '必修', '4', None, '72', '', None, None, '', '', '']\n",
      "['林学概论', None, None, '必修', '1.0', '85', 'Web程序设计', None, None, None, '必修', '4', None, '88', '', None, None, '', '', '']\n",
      "['数学分析(1)', None, None, '必修', '6.0', '98', 'Web程序设计实习', None, None, None, '必修', '1.0', None, '88', '', None, None, '', '', '']\n",
      "['思想道德修养与法律基础', None, None, '必修', '2.0', '90', '计算机图形学', None, None, None, '必修', '2.0', None, '91', '', None, None, '', '', '']\n",
      "['体育(1)', None, None, '必修', '1.0', '81', '计算机组成原理', None, None, None, '必修', '3', None, '90', '', None, None, '', '', '']\n",
      "['英语(1)', None, None, '必修', '4.0', '88', '毛泽东思想和中国特色社会主义理论体系概论', None, None, None, '必修', '4', None, '85', '', None, None, '', '', '']\n",
      "['2018-2019学年 第2学期', None, None, None, None, None, '数据结构', None, None, None, '必修', '4.0', None, '89', '', None, None, '', '', '']\n",
      "['C语言程序设计', None, None, '必修', '4.0', '95', '数据结构实习', None, None, None, '必修', '1.0', None, '94', '', None, None, '', '', '']\n",
      "['C语言程序设计实习', None, None, '必修', '1.0', '99', '体育(4)', None, None, None, '必修', '1', None, '90', '', None, None, '', '', '']\n",
      "['大学生创新创业基础', None, None, '必修', '2.0', '83', '无人机技术与应用', None, None, None, '公修', '2', None, '82', '', None, None, '', '', '']\n",
      "['高等代数与几何(2)', None, None, '必修', '4.0', '97', '形势与政策(4)', None, None, None, '必修', '0.25', None, '85', '', None, None, '', '', '']\n",
      "['数学分析(2)', None, None, '必修', '6.0', '96', '英语(4)', None, None, None, '必修', '4', None, '78', '', None, None, '', '', '']\n",
      "['体育(2)', None, None, '必修', '1.0', '90', '2022-2023学年 第1学期', None, None, None, None, None, None, None, '', None, None, '', '', '']\n",
      "['英语(2)', None, None, '必修', '4.0', '71', '操作系统原理', None, None, None, '必修', '4.0', None, '98', '', None, None, '', '', '']\n",
      "['中国近现代史纲要', None, None, '必修', '3.0', '77', '考研英语技巧与实训', None, None, None, '公修', '2.0', None, '84', '', None, None, '', '', '']\n",
      "['2021-2022学年 第1学期', None, None, None, None, None, '面向对象程序设计(Python)实习', None, None, None, '必修', '1', None, '81', '', None, None, '', '', '']\n",
      "['Java程序设计', None, None, '必修', '4.0', '92', '数据仓库与数据挖掘', None, None, None, '选修', '2.0', None, '80', '', None, None, '', '', '']\n",
      "['Linux应用', None, None, '必修', '2', '92', '形势与政策(5)', None, None, None, '必修', '0.25', None, '85', '', None, None, '', '', '']\n",
      "['UI设计', None, None, '必修', '4.0', '91', '遥感原理与遥感图像处理', None, None, None, '选修', '3.0', None, '92', '', None, None, '', '', '']\n",
      "['UI设计实习', None, None, '必修', '1.0', '76', '移动应用开发', None, None, None, '必修', '3.0', None, '98', '', None, None, '', '', '']\n",
      "['大学物理II', None, None, '必修', '4', '83', '综合实习一', None, None, None, '必修', '2.0', None, '88', '', None, None, '', '', '']\n",
      "['电路与模拟电子技术', None, None, '必修', '3', '92', '2022-2023学年 第2学期', None, None, None, None, None, None, None, '', None, None, '', '', '']\n",
      "['概率论与数理统计B', None, None, '必修', '3', '95', '编译技术', None, None, None, '必修', '3', None, '70', '', None, None, '', '', '']\n",
      "['计算机科学与技术导论', None, None, '必修', '1', '84', '大数据平台技术', None, None, None, '选修', '3.0', None, '96', '', None, None, '', '', '']\n",
      "['计算机网络', None, None, '必修', '3', '92', '就业指导', None, None, None, '必修', '2', None, '90', '', None, None, '', '', '']\n",
      "['计算机网络实习', None, None, '必修', '0.5', '96', '软件工程', None, None, None, '必修', '3.0', None, '85', '', None, None, '', '', '']\n",
      "['离散数学', None, None, '必修', '4', '97', '算法设计与分析', None, None, None, '必修', '3.0', None, '94', '', None, None, '', '', '']\n",
      "['马克思主义基本原理概论', None, None, '必修', '3', '92', '形势与政策(6)', None, None, None, '必修', '0.25', None, '85', '', None, None, '', '', '']\n",
      "['数据库原理及应用', None, None, '必修', '4', '81', '中国古典小说巅峰-四大名著鉴赏', None, None, None, '公修', '2.0', None, '98', '', None, None, '', '', '']\n",
      "['毕业论文(设计)题目', None, None, None, None, None, None, None, None, None, None, None, None, None, None, None, '学分绩点=∑(课程绩点×课程学分)/∑课程学分', None, None, None]\n",
      "['成绩:', None, None, None, None, None, None, None, None, None, None, None, None, None, None, None, None, None, None, None]\n",
      "['学分成绩', '88.65', '学分绩点', None, None, None, None, None, '3.53', None, None, None, None, None, None, None, '学分成绩=∑(课程成绩×课程学分)/∑课程学分', None, None, None]\n",
      "['获得总学分', '164.5', '其中包括', None, None, '必修', None, '150.5', '专业选修', '8.0', None, None, '公共选修', None, None, '6.0', None, None, None, None]\n"
     ]
    }
   ],
   "source": [
    "import pdfplumber\n",
    "with pdfplumber.open(\"D:\\\\file\\\\flask_learn\\\\uploads\\\\score_20180152016_2023-09-11_03_58_00.pdf\") as pdf:\n",
    "    first_page = pdf.pages[0]\n",
    "    # print(first_page.extract_table())\n",
    "    data = first_page.extract_table() \n",
    "    # print the data in a visualized way like in a table\n",
    "    for row in data:\n",
    "        print(row)\n",
    "        \n",
    "    \n",
    "    "
   ],
   "metadata": {
    "collapsed": false,
    "ExecuteTime": {
     "end_time": "2024-03-25T15:25:41.191357Z",
     "start_time": "2024-03-25T15:25:40.592477Z"
    }
   },
   "id": "ea85a1a37e19aef5",
   "execution_count": 76
  },
  {
   "cell_type": "code",
   "outputs": [],
   "source": [
    "import pdfplumber\n",
    "from openpyxl import Workbook\n",
    "\n",
    "with pdfplumber.open(\"D:\\\\file\\\\flask_learn\\\\uploads\\\\score_20180152016_2023-09-11_03_58_00.pdf\") as pdf:\n",
    "    first_page = pdf.pages[0]\n",
    "    data = first_page.extract_table()\n",
    "    \n",
    "# Find the index of the string '毕业论文（设计）题目'\n",
    "index = None\n",
    "for i, sublist in enumerate(data):\n",
    "    if '毕业论文(设计)题目' in sublist:\n",
    "        index = i\n",
    "        break\n",
    "\n",
    "# Cut out the list after the occurrence of the string\n",
    "if index is not None:\n",
    "    data = data[:index]\n",
    "    \n",
    "del data[0]\n",
    "\n",
    "new_data = []\n",
    "for row in data:\n",
    "    new_row = [row[0], row[1], row[2], row[3], row[4], row[5]]\n",
    "    new_data.append(new_row)\n",
    "    \n",
    "for row in data:\n",
    "    new_row = [row[6], row[7], row[8], row[9], row[10], row[11], row[12], row[13]]\n",
    "    new_data.append(new_row)\n",
    "    \n",
    "for row in data:\n",
    "    new_row = [row[14], row[15], row[16], row[17], row[18], row[19]] \n",
    "    new_data.append(new_row)\n",
    "    \n",
    "cleaned_list = [[item for item in sublist if item is not None and item != ''] for sublist in new_data]  \n",
    "    \n",
    "last_score_index = None  # Initialize last_score_index before the loop\n",
    "\n",
    "for i, sublist in enumerate(cleaned_list):\n",
    "    if '必修' in sublist or '选修' in sublist or '公修' in sublist:\n",
    "        last_score_index = i\n",
    "        \n",
    "        \n",
    "if last_score_index is not None:\n",
    "    new = cleaned_list[:last_score_index + 1]\n",
    "else:\n",
    "    new = cleaned_list[:]  # If the condition is never satisfied, use the entire cleaned_list \n",
    "\n",
    "semester = None\n",
    "last_data = []\n",
    "for row in new:\n",
    "    if len(row) == 1:\n",
    "        semester = row[0]\n",
    "    else:\n",
    "        row.append(semester)\n",
    "        last_data.append(row)\n",
    "\n",
    "# Create a workbook and select the active worksheet\n",
    "wb = Workbook()\n",
    "ws = wb.active\n",
    "\n",
    "# Write data to the worksheet\n",
    "for row_index, row_data in enumerate(last_data):\n",
    "    for col_index, value in enumerate(row_data):\n",
    "        ws.cell(row=row_index + 1, column=col_index + 1, value=value)\n",
    "        \n",
    "# Save the workbook to a file\n",
    "wb.save(\"fact.xlsx\")"
   ],
   "metadata": {
    "collapsed": false,
    "ExecuteTime": {
     "end_time": "2024-03-26T11:41:14.765910Z",
     "start_time": "2024-03-26T11:41:14.055275Z"
    }
   },
   "id": "721907509c56324f",
   "execution_count": 97
  },
  {
   "cell_type": "code",
   "outputs": [],
   "source": [],
   "metadata": {
    "collapsed": false
   },
   "id": "dbf8b053c5fc3cd2"
  },
  {
   "cell_type": "code",
   "outputs": [
    {
     "name": "stdout",
     "output_type": "stream",
     "text": [
      "no\n"
     ]
    }
   ],
   "source": [
    "if '必修' in []:\n",
    "    print('yes')\n",
    "else:\n",
    "    print('no')"
   ],
   "metadata": {
    "collapsed": false,
    "ExecuteTime": {
     "end_time": "2024-03-25T14:21:35.318810Z",
     "start_time": "2024-03-25T14:21:35.309811Z"
    }
   },
   "id": "198c70f50d78045b",
   "execution_count": 48
  },
  {
   "cell_type": "code",
   "outputs": [],
   "source": [
    "from openpyxl import Workbook\n",
    "\n",
    "# Sample 2-dimensional lis\n",
    "\n",
    "# Create a workbook and select the active worksheet\n",
    "wb = Workbook()\n",
    "ws = wb.active\n",
    "\n",
    "# Write data to the worksheet\n",
    "for row_index, row_data in enumerate(data):\n",
    "    for col_index, value in enumerate(row_data):\n",
    "        ws.cell(row=row_index + 1, column=col_index + 1, value=value)\n",
    "        \n",
    "\n",
    "\n",
    "# Save the workbook to a file\n",
    "wb.save(\"out.xlsx\")\n",
    "\n",
    "\n",
    "\n",
    "\n"
   ],
   "metadata": {
    "collapsed": false,
    "ExecuteTime": {
     "end_time": "2024-03-25T12:19:19.902632Z",
     "start_time": "2024-03-25T12:19:19.848632Z"
    }
   },
   "id": "a3574266ba2f22c",
   "execution_count": 12
  },
  {
   "cell_type": "code",
   "outputs": [],
   "source": [
    "from openpyxl import Workbook\n",
    "\n",
    "# Sample 2-dimensional lis\n",
    "\n",
    "# Create a workbook and select the active worksheet\n",
    "wb = Workbook()\n",
    "ws = wb.active\n",
    "\n",
    "# Write data to the worksheet\n",
    "for row_index, row_data in enumerate(new_data):\n",
    "    for col_index, value in enumerate(row_data):\n",
    "        ws.cell(row=row_index + 1, column=col_index + 1, value=value)\n",
    "        \n",
    "cleaned_list = [[item for item in sublist if item is not None] for sublist in new_data]\n",
    "\n",
    "# Save the workbook to a file\n",
    "wb.save(\"new_out.xlsx\")"
   ],
   "metadata": {
    "collapsed": false,
    "ExecuteTime": {
     "end_time": "2024-03-25T13:19:43.219349Z",
     "start_time": "2024-03-25T13:19:43.148350Z"
    }
   },
   "id": "443bf11b09c55553",
   "execution_count": 36
  },
  {
   "cell_type": "code",
   "outputs": [
    {
     "name": "stdout",
     "output_type": "stream",
     "text": [
      "课 程\n",
      "名 称\n",
      "Column A: 课 程\n",
      "名 称\n",
      "((<Cell 'Sheet'.A1>, <Cell 'Sheet'.B1>, <Cell 'Sheet'.C1>), (<Cell 'Sheet'.A2>, <Cell 'Sheet'.B2>, <Cell 'Sheet'.C2>), (<Cell 'Sheet'.A3>, <Cell 'Sheet'.B3>, <Cell 'Sheet'.C3>), (<Cell 'Sheet'.A4>, <Cell 'Sheet'.B4>, <Cell 'Sheet'.C4>))\n",
      "课 程\n",
      "名 称\n",
      "None\n",
      "None\n",
      "2018-2019学年 第1学期\n",
      "None\n",
      "None\n",
      "大学计算机基础与计算思维\n",
      "None\n",
      "None\n",
      "大学生心理健康教育\n",
      "None\n",
      "None\n"
     ]
    }
   ],
   "source": [
    "from openpyxl.workbook import Workbook\n",
    "from openpyxl import load_workbook\n",
    "\n",
    "# Create a workbook object\n",
    "wb = Workbook()\n",
    "\n",
    "# load existing workbook\n",
    "wb = load_workbook('D:\\\\file\\\\flask_learn\\\\out.xlsx')\n",
    "\n",
    "# Get the active worksheet\n",
    "ws = wb.active\n",
    "\n",
    "# print something from our spreadsheet\n",
    "print(ws['A1'].value)\n",
    "\n",
    "print(f'Column A: {ws[\"A1\"].value}')\n",
    "\n",
    "# Grab a range\n",
    "range = ws['A1':'C4']\n",
    "print(range)\n",
    "for cell in range:\n",
    "    for x in cell:\n",
    "        print(x.value)"
   ],
   "metadata": {
    "collapsed": false,
    "ExecuteTime": {
     "end_time": "2024-03-26T02:16:56.964188Z",
     "start_time": "2024-03-26T02:16:56.823035Z"
    }
   },
   "id": "4915627bf43143f9",
   "execution_count": 89
  },
  {
   "cell_type": "code",
   "outputs": [
    {
     "name": "stdout",
     "output_type": "stream",
     "text": [
      "Creating table employees: OK\n",
      "Creating table departments: OK\n",
      "Creating table salaries: OK\n",
      "Creating table dept_emp: OK\n",
      "Creating table dept_manager: OK\n",
      "Creating table titles: OK\n"
     ]
    }
   ],
   "source": [
    "from __future__ import print_function\n",
    "\n",
    "import mysql.connector\n",
    "from mysql.connector import errorcode\n",
    "\n",
    "DB_NAME = 'employees'\n",
    "\n",
    "TABLES = {}\n",
    "TABLES['employees'] = (\n",
    "    \"CREATE TABLE `employees` (\"\n",
    "    \"  `emp_no` int(11) NOT NULL AUTO_INCREMENT,\"\n",
    "    \"  `birth_date` date NOT NULL,\"\n",
    "    \"  `first_name` varchar(14) NOT NULL,\"\n",
    "    \"  `last_name` varchar(16) NOT NULL,\"\n",
    "    \"  `gender` enum('M','F') NOT NULL,\"\n",
    "    \"  `hire_date` date NOT NULL,\"\n",
    "    \"  PRIMARY KEY (`emp_no`)\"\n",
    "    \") ENGINE=InnoDB\")\n",
    "\n",
    "TABLES['departments'] = (\n",
    "    \"CREATE TABLE `departments` (\"\n",
    "    \"  `dept_no` char(4) NOT NULL,\"\n",
    "    \"  `dept_name` varchar(40) NOT NULL,\"\n",
    "    \"  PRIMARY KEY (`dept_no`), UNIQUE KEY `dept_name` (`dept_name`)\"\n",
    "    \") ENGINE=InnoDB\")\n",
    "\n",
    "TABLES['salaries'] = (\n",
    "    \"CREATE TABLE `salaries` (\"\n",
    "    \"  `emp_no` int(11) NOT NULL,\"\n",
    "    \"  `salary` int(11) NOT NULL,\"\n",
    "    \"  `from_date` date NOT NULL,\"\n",
    "    \"  `to_date` date NOT NULL,\"\n",
    "    \"  PRIMARY KEY (`emp_no`,`from_date`), KEY `emp_no` (`emp_no`),\"\n",
    "    \"  CONSTRAINT `salaries_ibfk_1` FOREIGN KEY (`emp_no`) \"\n",
    "    \"     REFERENCES `employees` (`emp_no`) ON DELETE CASCADE\"\n",
    "    \") ENGINE=InnoDB\")\n",
    "\n",
    "TABLES['dept_emp'] = (\n",
    "    \"CREATE TABLE `dept_emp` (\"\n",
    "    \"  `emp_no` int(11) NOT NULL,\"\n",
    "    \"  `dept_no` char(4) NOT NULL,\"\n",
    "    \"  `from_date` date NOT NULL,\"\n",
    "    \"  `to_date` date NOT NULL,\"\n",
    "    \"  PRIMARY KEY (`emp_no`,`dept_no`), KEY `emp_no` (`emp_no`),\"\n",
    "    \"  KEY `dept_no` (`dept_no`),\"\n",
    "    \"  CONSTRAINT `dept_emp_ibfk_1` FOREIGN KEY (`emp_no`) \"\n",
    "    \"     REFERENCES `employees` (`emp_no`) ON DELETE CASCADE,\"\n",
    "    \"  CONSTRAINT `dept_emp_ibfk_2` FOREIGN KEY (`dept_no`) \"\n",
    "    \"     REFERENCES `departments` (`dept_no`) ON DELETE CASCADE\"\n",
    "    \") ENGINE=InnoDB\")\n",
    "\n",
    "TABLES['dept_manager'] = (\n",
    "    \"  CREATE TABLE `dept_manager` (\"\n",
    "    \"  `emp_no` int(11) NOT NULL,\"\n",
    "    \"  `dept_no` char(4) NOT NULL,\"\n",
    "    \"  `from_date` date NOT NULL,\"\n",
    "    \"  `to_date` date NOT NULL,\"\n",
    "    \"  PRIMARY KEY (`emp_no`,`dept_no`),\"\n",
    "    \"  KEY `emp_no` (`emp_no`),\"\n",
    "    \"  KEY `dept_no` (`dept_no`),\"\n",
    "    \"  CONSTRAINT `dept_manager_ibfk_1` FOREIGN KEY (`emp_no`) \"\n",
    "    \"     REFERENCES `employees` (`emp_no`) ON DELETE CASCADE,\"\n",
    "    \"  CONSTRAINT `dept_manager_ibfk_2` FOREIGN KEY (`dept_no`) \"\n",
    "    \"     REFERENCES `departments` (`dept_no`) ON DELETE CASCADE\"\n",
    "    \") ENGINE=InnoDB\")\n",
    "\n",
    "TABLES['titles'] = (\n",
    "    \"CREATE TABLE `titles` (\"\n",
    "    \"  `emp_no` int(11) NOT NULL,\"\n",
    "    \"  `title` varchar(50) NOT NULL,\"\n",
    "    \"  `from_date` date NOT NULL,\"\n",
    "    \"  `to_date` date DEFAULT NULL,\"\n",
    "    \"  PRIMARY KEY (`emp_no`,`title`,`from_date`), KEY `emp_no` (`emp_no`),\"\n",
    "    \"  CONSTRAINT `titles_ibfk_1` FOREIGN KEY (`emp_no`)\"\n",
    "    \"     REFERENCES `employees` (`emp_no`) ON DELETE CASCADE\"\n",
    "    \") ENGINE=InnoDB\")\n",
    "\n",
    "cnx = mysql.connector.connect(user='root', password='root', host='localhost')\n",
    "cursor = cnx.cursor()\n",
    "\n",
    "def create_database(cursor):\n",
    "    try:\n",
    "        cursor.execute(\n",
    "            \"CREATE DATABASE {} DEFAULT CHARACTER SET 'utf8'\".format(DB_NAME))\n",
    "    except mysql.connector.Error as err:\n",
    "        print(\"Failed creating database: {}\".format(err))\n",
    "        exit(1)\n",
    "\n",
    "try:\n",
    "    cursor.execute(\"USE {}\".format(DB_NAME))\n",
    "except mysql.connector.Error as err:\n",
    "    print(\"Database {} does not exists.\".format(DB_NAME))\n",
    "    if err.errno == errorcode.ER_BAD_DB_ERROR:\n",
    "        create_database(cursor)\n",
    "        print(\"Database {} created successfully.\".format(DB_NAME))\n",
    "        cnx.database = DB_NAME\n",
    "    else:\n",
    "        print(err)\n",
    "        exit(1)\n",
    "        \n",
    "for table_name in TABLES:\n",
    "    table_description = TABLES[table_name]\n",
    "    try:\n",
    "        print(\"Creating table {}: \".format(table_name), end='')\n",
    "        cursor.execute(table_description)\n",
    "    except mysql.connector.Error as err:\n",
    "        if err.errno == errorcode.ER_TABLE_EXISTS_ERROR:\n",
    "            print(\"already exists.\")\n",
    "        else:\n",
    "            print(err.msg)\n",
    "    else:\n",
    "        print(\"OK\")\n",
    "\n",
    "cursor.close()\n",
    "cnx.close()"
   ],
   "metadata": {
    "collapsed": false,
    "ExecuteTime": {
     "end_time": "2024-03-26T02:34:15.231102Z",
     "start_time": "2024-03-26T02:34:14.937495Z"
    }
   },
   "id": "f101a369d8868997",
   "execution_count": 93
  },
  {
   "cell_type": "code",
   "outputs": [],
   "source": [
    "from __future__ import print_function\n",
    "from datetime import date, datetime, timedelta\n",
    "import mysql.connector\n",
    "\n",
    "cnx = mysql.connector.connect(user='root', database='employees', password='root')\n",
    "cursor = cnx.cursor()\n",
    "\n",
    "tomorrow = datetime.now().date() + timedelta(days=1)\n",
    "\n",
    "add_employee = (\"INSERT INTO employees \"\n",
    "               \"(first_name, last_name, hire_date, gender, birth_date) \"\n",
    "               \"VALUES (%s, %s, %s, %s, %s)\")\n",
    "add_salary = (\"INSERT INTO salaries \"\n",
    "              \"(emp_no, salary, from_date, to_date) \"\n",
    "              \"VALUES (%(emp_no)s, %(salary)s, %(from_date)s, %(to_date)s)\")\n",
    "\n",
    "data_employee = ('Geert', 'Vanderkelen', tomorrow, 'M', date(1977, 6, 14))\n",
    "\n",
    "# Insert new employee\n",
    "cursor.execute(add_employee, data_employee)\n",
    "emp_no = cursor.lastrowid\n",
    "\n",
    "# Insert salary information\n",
    "data_salary = {\n",
    "  'emp_no': emp_no,\n",
    "  'salary': 50000,\n",
    "  'from_date': tomorrow,\n",
    "  'to_date': date(9999, 1, 1),\n",
    "}\n",
    "cursor.execute(add_salary, data_salary)\n",
    "\n",
    "# Make sure data is committed to the database\n",
    "cnx.commit()\n",
    "\n",
    "cursor.close()\n",
    "cnx.close()"
   ],
   "metadata": {
    "collapsed": false,
    "ExecuteTime": {
     "end_time": "2024-03-26T03:14:16.345147Z",
     "start_time": "2024-03-26T03:14:16.260147Z"
    }
   },
   "id": "649f0cb1a432bd89",
   "execution_count": 96
  },
  {
   "cell_type": "code",
   "outputs": [],
   "source": [
    "from __future__ import print_function\n",
    "\n",
    "from decimal import Decimal\n",
    "from datetime import datetime, date, timedelta\n",
    "\n",
    "import mysql.connector\n",
    "\n",
    "# Connect with the MySQL Server\n",
    "cnx = mysql.connector.connect(user='scott', database='employees')\n",
    "\n",
    "# Get two buffered cursors\n",
    "curA = cnx.cursor(buffered=True)\n",
    "curB = cnx.cursor(buffered=True)\n",
    "\n",
    "# Query to get employees who joined in a period defined by two dates\n",
    "query = (\n",
    "  \"SELECT s.emp_no, salary, from_date, to_date FROM employees AS e \"\n",
    "  \"LEFT JOIN salaries AS s USING (emp_no) \"\n",
    "  \"WHERE to_date = DATE('9999-01-01')\"\n",
    "  \"AND e.hire_date BETWEEN DATE(%s) AND DATE(%s)\")\n",
    "\n",
    "# UPDATE and INSERT statements for the old and new salary\n",
    "update_old_salary = (\n",
    "  \"UPDATE salaries SET to_date = %s \"\n",
    "  \"WHERE emp_no = %s AND from_date = %s\")\n",
    "insert_new_salary = (\n",
    "  \"INSERT INTO salaries (emp_no, from_date, to_date, salary) \"\n",
    "  \"VALUES (%s, %s, %s, %s)\")\n",
    "\n",
    "# Select the employees getting a raise\n",
    "curA.execute(query, (date(2000, 1, 1), date(2000, 12, 31)))\n",
    "\n",
    "# Iterate through the result of curA\n",
    "for (emp_no, salary, from_date, to_date) in curA:\n",
    "\n",
    "  # Update the old and insert the new salary\n",
    "  new_salary = int(round(salary * Decimal('1.15')))\n",
    "  curB.execute(update_old_salary, (tomorrow, emp_no, from_date))\n",
    "  curB.execute(insert_new_salary,\n",
    "               (emp_no, tomorrow, date(9999, 1, 1,), new_salary))\n",
    "\n",
    "  # Commit the changes\n",
    "  cnx.commit()\n",
    "\n",
    "cnx.close()"
   ],
   "metadata": {
    "collapsed": false
   },
   "id": "6e9baaabebfeee6f"
  },
  {
   "cell_type": "code",
   "outputs": [
    {
     "name": "stdout",
     "output_type": "stream",
     "text": [
      "学院: None\n",
      "专业: None\n",
      "班级: None\n",
      "学号: None\n",
      "姓名: None\n"
     ]
    }
   ],
   "source": [
    "data = \"\"\"西南林业大学学业成绩表\n",
    "学院: 大数据与智能工程学院 专业: 计算机科学与技术 班级: 计算机科学与技术2020\n",
    "学号: 20180152016 姓名: 肖晨亮\n",
    "课 程 性 学 成 课 程 性 学 成 课 程 性 学 成\"\"\"\n",
    "\n",
    "# Split the string by newline characters\n",
    "lines = data.split('\\n')\n",
    "\n",
    "# Extracting information\n",
    "information = {}\n",
    "for line in lines:\n",
    "    # Skip empty lines\n",
    "    if line.strip() == '':\n",
    "        continue\n",
    "    # Extracting key-value pairs based on the pattern 'key: value'\n",
    "    parts = line.split(':')\n",
    "    if len(parts) == 2:\n",
    "        key = parts[0].strip()\n",
    "        value = parts[1].strip()\n",
    "        information[key] = value\n",
    "\n",
    "# Accessing extracted information\n",
    "print(\"学院:\", information.get('学院'))\n",
    "print(\"专业:\", information.get('专业'))\n",
    "print(\"班级:\", information.get('班级'))\n",
    "print(\"学号:\", information.get('学号'))\n",
    "print(\"姓名:\", information.get('姓名'))\n"
   ],
   "metadata": {
    "collapsed": false,
    "ExecuteTime": {
     "end_time": "2024-03-27T12:16:03.360507Z",
     "start_time": "2024-03-27T12:16:03.339681Z"
    }
   },
   "id": "20139e54007156b1",
   "execution_count": 2
  },
  {
   "cell_type": "code",
   "outputs": [
    {
     "ename": "ValueError",
     "evalue": "'打印日期:' is not in list",
     "output_type": "error",
     "traceback": [
      "\u001B[1;31m---------------------------------------------------------------------------\u001B[0m",
      "\u001B[1;31mValueError\u001B[0m                                Traceback (most recent call last)",
      "Cell \u001B[1;32mIn[3], line 17\u001B[0m\n\u001B[0;32m     15\u001B[0m 专业选修 \u001B[38;5;241m=\u001B[39m line_elements[获得总学分_index \u001B[38;5;241m+\u001B[39m \u001B[38;5;241m3\u001B[39m]\n\u001B[0;32m     16\u001B[0m 公共选修 \u001B[38;5;241m=\u001B[39m line_elements[获得总学分_index \u001B[38;5;241m+\u001B[39m \u001B[38;5;241m5\u001B[39m]\n\u001B[1;32m---> 17\u001B[0m 打印日期_index \u001B[38;5;241m=\u001B[39m \u001B[43mline_elements\u001B[49m\u001B[38;5;241;43m.\u001B[39;49m\u001B[43mindex\u001B[49m\u001B[43m(\u001B[49m\u001B[38;5;124;43m'\u001B[39;49m\u001B[38;5;124;43m打印日期:\u001B[39;49m\u001B[38;5;124;43m'\u001B[39;49m\u001B[43m)\u001B[49m \u001B[38;5;241m+\u001B[39m \u001B[38;5;241m1\u001B[39m\n\u001B[0;32m     18\u001B[0m 打印日期 \u001B[38;5;241m=\u001B[39m line_elements[打印日期_index]\n\u001B[0;32m     20\u001B[0m \u001B[38;5;28mprint\u001B[39m(\u001B[38;5;124m'\u001B[39m\u001B[38;5;124m获得总学分:\u001B[39m\u001B[38;5;124m'\u001B[39m, 获得总学分)\n",
      "\u001B[1;31mValueError\u001B[0m: '打印日期:' is not in list"
     ]
    }
   ],
   "source": [
    "data = \"\"\"学分成绩 88.65 学分绩点 3.53\n",
    "学分成绩=∑(课程成绩×课程学分)/∑课程学分\n",
    "获得总学分 164.5 其中包括 必修 150.5 专业选修 8.0 公共选修 6.0\n",
    "审核: 院系(盖章): 教务处(盖章): 打印日期:2023/09/11 第1页,共1页\"\"\"\n",
    "\n",
    "# Split the string by newline characters and get the third line\n",
    "third_line = data.split('\\n')[2]\n",
    "\n",
    "# Split the third line by space\n",
    "line_elements = third_line.split(' ')\n",
    "\n",
    "# Extract '获得总学分', '必修', '专业选修', '公共选修' and '打印日期'\n",
    "获得总学分_index = line_elements.index('获得总学分') + 1\n",
    "必修 = line_elements[获得总学分_index + 1]\n",
    "专业选修 = line_elements[获得总学分_index + 3]\n",
    "公共选修 = line_elements[获得总学分_index + 5]\n",
    "打印日期_index = line_elements.index('打印日期:') + 1\n",
    "打印日期 = line_elements[打印日期_index]\n",
    "\n",
    "print('获得总学分:', 获得总学分)\n",
    "print('必修:', 必修)\n",
    "print('专业选修:', 专业选修)\n",
    "print('公共选修:', 公共选修)\n",
    "print('打印日期:', 打印日期)\n"
   ],
   "metadata": {
    "collapsed": false,
    "ExecuteTime": {
     "end_time": "2024-03-27T12:16:18.229234Z",
     "start_time": "2024-03-27T12:16:18.191235Z"
    }
   },
   "id": "918d1b78ded61064",
   "execution_count": 3
  },
  {
   "cell_type": "code",
   "outputs": [],
   "source": [
    "User\n",
    "西南林业大学学业成绩表\n",
    "学院: 大数据与智能工程学院 专业: 计算机科学与技术 班级: 计算机科学与技术2020\n",
    "学号: 20180152016 姓名: 肖晨亮\n",
    "课 程 性 学 成 课 程 性 学 成 课 程 性 学 成\n",
    "\n",
    "How to extract '学院', '专业', '班级', '学号', '姓名' from this string?"
   ],
   "metadata": {
    "collapsed": false
   },
   "id": "14daf4522eccf6f2"
  },
  {
   "cell_type": "code",
   "outputs": [
    {
     "ename": "IndexError",
     "evalue": "list index out of range",
     "output_type": "error",
     "traceback": [
      "\u001B[1;31m---------------------------------------------------------------------------\u001B[0m",
      "\u001B[1;31mIndexError\u001B[0m                                Traceback (most recent call last)",
      "Cell \u001B[1;32mIn[4], line 16\u001B[0m\n\u001B[0;32m     14\u001B[0m \u001B[38;5;66;03m# Remove leading and trailing whitespace from key and value\u001B[39;00m\n\u001B[0;32m     15\u001B[0m key \u001B[38;5;241m=\u001B[39m parts[\u001B[38;5;241m0\u001B[39m]\u001B[38;5;241m.\u001B[39mstrip()\n\u001B[1;32m---> 16\u001B[0m value \u001B[38;5;241m=\u001B[39m \u001B[43mparts\u001B[49m\u001B[43m[\u001B[49m\u001B[38;5;241;43m1\u001B[39;49m\u001B[43m]\u001B[49m\u001B[38;5;241m.\u001B[39mstrip()\n\u001B[0;32m     17\u001B[0m \u001B[38;5;66;03m# Store key-value pairs in a dictionary\u001B[39;00m\n\u001B[0;32m     18\u001B[0m info[key] \u001B[38;5;241m=\u001B[39m value\n",
      "\u001B[1;31mIndexError\u001B[0m: list index out of range"
     ]
    }
   ],
   "source": [
    "data = \"\"\"西南林业大学学业成绩表\n",
    "学院: 大数据与智能工程学院 专业: 计算机科学与技术 班级: 计算机科学与技术2020\n",
    "学号: 20180152016 姓名: 肖晨亮\n",
    "课 程 性 学 成 课 程 性 学 成 课 程 性 学 成\"\"\"\n",
    "\n",
    "# Split the string by newline character to get lines\n",
    "lines = data.split('\\n')\n",
    "\n",
    "# Iterate through the lines to find the desired information\n",
    "info = {}\n",
    "for line in lines:\n",
    "    # Split each line by ':' to separate the key and value\n",
    "    parts = line.split(':')\n",
    "    # Remove leading and trailing whitespace from key and value\n",
    "    key = parts[0].strip()\n",
    "    value = parts[1].strip()\n",
    "    # Store key-value pairs in a dictionary\n",
    "    info[key] = value\n",
    "\n",
    "# Extract desired information\n",
    "college = info.get('学院')\n",
    "major = info.get('专业')\n",
    "class_name = info.get('班级')\n",
    "student_id = info.get('学号')\n",
    "name = info.get('姓名')\n",
    "\n",
    "print(\"学院:\", college)\n",
    "print(\"专业:\", major)\n",
    "print(\"班级:\", class_name)\n",
    "print(\"学号:\", student_id)\n",
    "print(\"姓名:\", name)\n"
   ],
   "metadata": {
    "collapsed": false,
    "ExecuteTime": {
     "end_time": "2024-03-27T12:21:32.307038Z",
     "start_time": "2024-03-27T12:21:32.280979Z"
    }
   },
   "id": "cfe0899d6c6a2c3a",
   "execution_count": 4
  },
  {
   "cell_type": "code",
   "outputs": [],
   "source": [],
   "metadata": {
    "collapsed": false
   },
   "id": "ecb482df1c355cf0"
  },
  {
   "cell_type": "code",
   "outputs": [
    {
     "ename": "IndexError",
     "evalue": "list index out of range",
     "output_type": "error",
     "traceback": [
      "\u001B[1;31m---------------------------------------------------------------------------\u001B[0m",
      "\u001B[1;31mIndexError\u001B[0m                                Traceback (most recent call last)",
      "Cell \u001B[1;32mIn[5], line 16\u001B[0m\n\u001B[0;32m     14\u001B[0m \u001B[38;5;66;03m# Extract key-value pairs and strip whitespace\u001B[39;00m\n\u001B[0;32m     15\u001B[0m key \u001B[38;5;241m=\u001B[39m parts[\u001B[38;5;241m0\u001B[39m]\u001B[38;5;241m.\u001B[39mstrip()\n\u001B[1;32m---> 16\u001B[0m value \u001B[38;5;241m=\u001B[39m \u001B[43mparts\u001B[49m\u001B[43m[\u001B[49m\u001B[38;5;241;43m1\u001B[39;49m\u001B[43m]\u001B[49m\u001B[38;5;241m.\u001B[39mstrip()\n\u001B[0;32m     17\u001B[0m \u001B[38;5;66;03m# Store the key-value pairs in a dictionary\u001B[39;00m\n\u001B[0;32m     18\u001B[0m info[key] \u001B[38;5;241m=\u001B[39m value\n",
      "\u001B[1;31mIndexError\u001B[0m: list index out of range"
     ]
    }
   ],
   "source": [
    "data = \"\"\"西南林业大学学业成绩表\n",
    "学院: 大数据与智能工程学院 专业: 计算机科学与技术 班级: 计算机科学与技术2020\n",
    "学号: 20180152016 姓名: 肖晨亮\n",
    "课 程 性 学 成 课 程 性 学 成 课 程 性 学 成\"\"\"\n",
    "\n",
    "# Split the string by newline character to get individual lines\n",
    "lines = data.split('\\n')\n",
    "\n",
    "# Iterate through the lines to find the required information\n",
    "info = {}\n",
    "for line in lines:\n",
    "    # Split each line by colon (':')\n",
    "    parts = line.split(':')\n",
    "    # Extract key-value pairs and strip whitespace\n",
    "    key = parts[0].strip()\n",
    "    value = parts[1].strip()\n",
    "    # Store the key-value pairs in a dictionary\n",
    "    info[key] = value\n",
    "\n",
    "# Extract required information\n",
    "college = info.get('学院')\n",
    "major = info.get('专业')\n",
    "class_ = info.get('班级')\n",
    "student_id = info.get('学号')\n",
    "name = info.get('姓名')\n",
    "\n",
    "# Print the extracted information\n",
    "print(\"学院:\", college)\n",
    "print(\"专业:\", major)\n",
    "print(\"班级:\", class_)\n",
    "print(\"学号:\", student_id)\n",
    "print(\"姓名:\", name)"
   ],
   "metadata": {
    "collapsed": false,
    "ExecuteTime": {
     "end_time": "2024-03-27T12:22:44.826002Z",
     "start_time": "2024-03-27T12:22:44.798003Z"
    }
   },
   "id": "e2a46d17d2730867",
   "execution_count": 5
  },
  {
   "cell_type": "code",
   "outputs": [
    {
     "name": "stdout",
     "output_type": "stream",
     "text": [
      "{'学院': '大数据与智能工程学院', '专业': '计算机科学与技术', '班级': '计算机科学与技术2020', '学号': '20180152016', '姓名': '肖晨亮'}\n"
     ]
    }
   ],
   "source": [
    "data = \"\"\"西南林业大学学业成绩表\n",
    "学院: 大数据与智能工程学院 专业: 计算机科学与技术 班级: 计算机科学与技术2020\n",
    "学号: 20180152016 姓名: 肖晨亮\n",
    "课 程 性 学 成 课 程 性 学 成 课 程 性 学 成\"\"\"\n",
    "\n",
    "lines = data.split('\\n')  # Split the string into lines\n",
    "\n",
    "info = {}  # Dictionary to store extracted information\n",
    "\n",
    "for line in lines:\n",
    "    if '学院' in line:\n",
    "        info['学院'] = line.split('学院: ')[1].split(' ')[0]\n",
    "    if '专业' in line:\n",
    "        info['专业'] = line.split('专业: ')[1].split(' ')[0]\n",
    "    if '班级' in line:\n",
    "        info['班级'] = line.split('班级: ')[1].split(' ')[0]\n",
    "    if '学号' in line:\n",
    "        info['学号'] = line.split('学号: ')[1].split(' ')[0]\n",
    "    if '姓名' in line:\n",
    "        info['姓名'] = line.split('姓名: ')[1].split(' ')[0]\n",
    "\n",
    "print(info)\n"
   ],
   "metadata": {
    "collapsed": false,
    "ExecuteTime": {
     "end_time": "2024-03-27T12:28:31.774834Z",
     "start_time": "2024-03-27T12:28:31.753801Z"
    }
   },
   "id": "9713a7905a106c93",
   "execution_count": 6
  },
  {
   "cell_type": "code",
   "outputs": [
    {
     "name": "stdout",
     "output_type": "stream",
     "text": [
      "{'获得总学分': 164.5, '必修': 150.5, '专业选修': 8.0, '公共选修': 6.0, '打印日期': '2023/09/11'}\n"
     ]
    }
   ],
   "source": [
    "data = \"\"\"学分成绩 88.65 学分绩点 3.53\n",
    "学分成绩=∑(课程成绩×课程学分)/∑课程学分\n",
    "获得总学分 164.5 其中包括 必修 150.5 专业选修 8.0 公共选修 6.0\n",
    "审核: 院系(盖章): 教务处(盖章): 打印日期:2023/09/11 第1页,共1页\"\"\"\n",
    "\n",
    "lines = data.split('\\n')  # Split the string into lines\n",
    "\n",
    "info = {}  # Dictionary to store extracted information\n",
    "\n",
    "for line in lines:\n",
    "    if '获得总学分' in line:\n",
    "        info['获得总学分'] = float(line.split('获得总学分 ')[1].split(' ')[0])\n",
    "        info['必修'] = float(line.split('必修 ')[1].split(' ')[0])\n",
    "        info['专业选修'] = float(line.split('专业选修 ')[1].split(' ')[0])\n",
    "        info['公共选修'] = float(line.split('公共选修 ')[1].split(' ')[0])\n",
    "    if '打印日期' in line:\n",
    "        info['打印日期'] = line.split('打印日期:')[1].split(' ')[0]\n",
    "\n",
    "print(info)\n"
   ],
   "metadata": {
    "collapsed": false,
    "ExecuteTime": {
     "end_time": "2024-03-27T12:33:28.390708Z",
     "start_time": "2024-03-27T12:33:28.373705Z"
    }
   },
   "id": "4de05395e64b1a68",
   "execution_count": 7
  },
  {
   "cell_type": "code",
   "outputs": [
    {
     "name": "stdout",
     "output_type": "stream",
     "text": [
      "{'collage': '大数据与智能工程学院', 'major': '计算机科学与技术', 'grade': 2020, 'sn': '20180152016', 'name': '肖晨亮', 'total': 167.3, 'required': 151.3, 'specialized': 8.0, 'public': 8.0, 'data': '2024/04/12'}\n",
      "[['20180152016', '大学计算机基础与计算思维', '必修', '3.0', '84', '2018-2019学年 第1学期'], ['20180152016', '大学生心理健康教育', '必修', '2.0', '96', '2018-2019学年 第1学期'], ['20180152016', '大学生职业生涯规划', '必修', '1.0', '87', '2018-2019学年 第1学期'], ['20180152016', '思想道德修养与法律基础', '必修', '2.0', '90', '2018-2019学年 第1学期'], ['20180152016', '体育(1)', '必修', '1.0', '81', '2018-2019学年 第1学期'], ['20180152016', '英语(1)', '必修', '4.0', '88', '2018-2019学年 第1学期'], ['20180152016', '高等代数与几何(2)', '必修', '4.0', '97', '2018-2019学年 第2学期'], ['20180152016', '体育(2)', '必修', '1.0', '90', '2018-2019学年 第2学期'], ['20180152016', '英语(2)', '必修', '4.0', '71', '2018-2019学年 第2学期'], ['20180152016', '中国近现代史纲要', '必修', '3.0', '77', '2018-2019学年 第2学期'], ['20180152016', 'C语言程序设计', '必修', '4.0', '95', '2020-2021学年 第1学期'], ['20180152016', 'C语言程序设计实习', '必修', '0.5', '99', '2020-2021学年 第1学期'], ['20180152016', 'Linux应用', '必修', '2.0', '92', '2020-2021学年 第1学期'], ['20180152016', '电路与模拟电子技术', '必修', '3.0', '92', '2020-2021学年 第1学期'], ['20180152016', '高等数学A(1)', '必修', '5.0', '98', '2020-2021学年 第1学期'], ['20180152016', '计算机科学与技术导论', '必修', '1.0', '84', '2020-2021学年 第1学期'], ['20180152016', '计算机网络', '必修', '3.0', '92', '2020-2021学年 第1学期'], ['20180152016', '计算机网络实习', '必修', '0.5', '96', '2020-2021学年 第1学期'], ['20180152016', '军事技能', '必修', '2.0', '79', '2020-2021学年 第1学期'], ['20180152016', '军事理论', '必修', '2.0', '79', '2020-2021学年 第1学期'], ['20180152016', '数据科学导论', '必修', '2.0', '78', '2020-2021学年 第1学期'], ['20180152016', 'Python程序设计实习', '必修', '1.0', '81', '2020-2021学年 第2学期'], ['20180152016', '大学生创新创业基础', '必修', '2', '83', '2020-2021学年 第2学期'], ['20180152016', '大学物理', '必修', '4', '83', '2020-2021学年 第2学期'], ['20180152016', '高等数学A(2)', '必修', '4', '96', '2020-2021学年 第2学期'], ['20180152016', '林学概论', '必修', '1', '85', '2020-2021学年 第2学期'], ['20180152016', '数据库原理与应用', '必修', '4', '81', '2020-2021学年 第2学期'], ['20180152016', '线性代数A', '必修', '3', '98', '2020-2021学年 第2学期'], ['20180152016', 'Java程序设计', '必修', '4.0', '92', '2021-2022学年 第1学期'], ['20180152016', 'UI设计', '必修', '4.0', '91', '2021-2022学年 第1学期'], ['20180152016', 'UI设计实习', '必修', '1.0', '76', '2021-2022学年 第1学期'], ['20180152016', '概率论与数理统计B', '必修', '3', '95', '2021-2022学年 第1学期'], ['20180152016', '离散数学', '必修', '4', '97', '2021-2022学年 第1学期'], ['20180152016', '马克思主义基本原理概论', '必修', '3', '92', '2021-2022学年 第1学期'], ['20180152016', '数字逻辑', '必修', '3', '92', '2021-2022学年 第1学期'], ['20180152016', '体育(3)', '必修', '1', '99', '2021-2022学年 第1学期'], ['20180152016', '形势与政策(3)', '必修', '0.25', '90', '2021-2022学年 第1学期'], ['20180152016', '英语(3)', '必修', '4', '86', '2021-2022学年 第1学期'], ['20180152016', 'Python程序设计', '必修', '4', '72', '2021-2022学年 第2学期'], ['20180152016', 'Web程序设计', '必修', '4', '88', '2021-2022学年 第2学期'], ['20180152016', 'Web程序设计实习', '必修', '1.0', '88', '2021-2022学年 第2学期'], ['20180152016', '计算机图形学', '必修', '2.0', '91', '2021-2022学年 第2学期'], ['20180152016', '计算机组成原理', '必修', '3', '90', '2021-2022学年 第2学期'], ['20180152016', '毛泽东思想和中国特色社会主义理论体系概论', '必修', '4', '85', '2021-2022学年 第2学期'], ['20180152016', '数据结构', '必修', '4.0', '89', '2021-2022学年 第2学期'], ['20180152016', '数据结构实习', '必修', '1.0', '94', '2021-2022学年 第2学期'], ['20180152016', '体育(4)', '必修', '1', '90', '2021-2022学年 第2学期'], ['20180152016', '无人机技术与应用', '公修', '2', '82', '2021-2022学年 第2学期'], ['20180152016', '形势与政策(4)', '必修', '0.25', '85', '2021-2022学年 第2学期'], ['20180152016', '英语(4)', '必修', '4', '78', '2021-2022学年 第2学期'], ['20180152016', '操作系统原理', '必修', '4.0', '98', '2022-2023学年 第1学期'], ['20180152016', '考研英语技巧与实训', '公修', '2.0', '84', '2022-2023学年 第1学期'], ['20180152016', '数据仓库与数据挖掘', '选修', '2.0', '80', '2022-2023学年 第1学期'], ['20180152016', '形势与政策(5)', '必修', '0.25', '85', '2022-2023学年 第1学期'], ['20180152016', '遥感原理与遥感图像处理', '选修', '3.0', '92', '2022-2023学年 第1学期'], ['20180152016', '移动应用开发', '必修', '3.0', '98', '2022-2023学年 第1学期'], ['20180152016', '综合实习一', '必修', '2.0', '88', '2022-2023学年 第1学期'], ['20180152016', '编译技术', '必修', '3', '70', '2022-2023学年 第2学期'], ['20180152016', '大数据平台技术', '选修', '3.0', '96', '2022-2023学年 第2学期'], ['20180152016', '就业指导', '必修', '2', '90', '2022-2023学年 第2学期'], ['20180152016', '软件工程', '必修', '3.0', '85', '2022-2023学年 第2学期'], ['20180152016', '算法设计与分析', '必修', '3.0', '94', '2022-2023学年 第2学期'], ['20180152016', '形势与政策(6)', '必修', '0.25', '85', '2022-2023学年 第2学期'], ['20180152016', '中国古典小说巅峰-四大名著鉴赏', '公修', '2.0', '98', '2022-2023学年 第2学期'], ['20180152016', '综合实习二', '必修', '3.0', '88', '2022-2023学年 第2学期'], ['20180152016', '计算机系统结构', '必修', '2.0', '90', '2023-2024学年 第1学期'], ['20180152016', '形势与政策(7)', '必修', '0.25', '85', '2023-2024学年 第1学期'], ['20180152016', '行为生活方式与健康', '公修', '2', '79', '2023-2024学年 第1学期'], ['20180152016', '林学概论实习', '必修', '1.0', '90', '2023-2024学年 第2学期']]\n",
      "Connected to MySQL Server version  8.0.30\n",
      "MySQL connection is closed\n"
     ]
    }
   ],
   "source": [
    "from werkzeug.datastructures import FileStorage\n",
    "import pdfplumber\n",
    "from openpyxl import Workbook\n",
    "import os\n",
    "import mysql_connection\n",
    "import re\n",
    "\n",
    "with pdfplumber.open(\"D:\\\\file\\\\flask_learn\\\\uploads\\\\score_20180152016_2024-04-12_10_44_17.pdf\") as pdf:        \n",
    "    text = pdf.pages[0].extract_text()\n",
    "    data = pdf.pages[0].extract_table()\n",
    "    \n",
    "\n",
    "    \n",
    "# Split the multi-line string into lines and select the first 4 lines\n",
    "first_4_lines = text.splitlines()[:4]\n",
    "\n",
    "info = {}  # Dictionary to store extracted information\n",
    "\n",
    "\n",
    "\n",
    "for line in first_4_lines:\n",
    "    if '学院' in line:\n",
    "        info['collage'] = line.split('学院: ')[1].split(' ')[0]\n",
    "    if '专业' in line:\n",
    "        info['major'] = line.split('专业: ')[1].split(' ')[0]\n",
    "    if '班级' in line:\n",
    "        info['grade'] = line.split('班级: ')[1].split(' ')[0]\n",
    "    if '学号' in line:\n",
    "        info['sn'] = line.split('学号: ')[1].split(' ')[0]\n",
    "    if '姓名' in line:\n",
    "        info['name'] = line.split('姓名: ')[1].split(' ')[0]\n",
    "\n",
    "# Split the multi-line string into lines and select the last 4 lines\n",
    "lines = text.splitlines()\n",
    "last_4_lines = lines[-4:]\n",
    "\n",
    "for line in last_4_lines:\n",
    "    if '获得总学分' in line:\n",
    "        info['total'] = float(line.split('获得总学分 ')[1].split(' ')[0])\n",
    "        info['required'] = float(line.split('必修 ')[1].split(' ')[0])\n",
    "        info['specialized'] = float(line.split('专业选修 ')[1].split(' ')[0])\n",
    "        info['public'] = float(line.split('公共选修 ')[1].split(' ')[0])\n",
    "    if '打印日期' in line:\n",
    "        info['data'] = line.split('打印日期:')[1].split(' ')[0]\n",
    "        \n",
    "# Use regular expression to find four continuous digits\n",
    "match = re.search(r'\\d{4}', info['grade'])\n",
    "info['grade'] = int(match.group()) if match else None\n",
    "\n",
    "print(info)\n",
    "\n",
    "# Find the index of the string '毕业论文（设计）题目'\n",
    "index = None\n",
    "for i, sublist in enumerate(data):\n",
    "    if '毕业论文(设计)题目' in sublist:\n",
    "        index = i\n",
    "        break\n",
    "\n",
    "# Cut out the list after the occurrence of the string\n",
    "if index is not None:\n",
    "    data = data[:index]\n",
    "\n",
    "del data[0]\n",
    "\n",
    "new_data = []\n",
    "for row in data:\n",
    "    new_row = [row[0], row[1], row[2], row[3], row[4], row[5]]\n",
    "    new_data.append(new_row)\n",
    "\n",
    "for row in data:\n",
    "    new_row = [row[6], row[7], row[8], row[9], row[10], row[11], row[12], row[13]]\n",
    "    new_data.append(new_row)\n",
    "\n",
    "for row in data:\n",
    "    new_row = [row[14], row[15], row[16], row[17], row[18], row[19]]\n",
    "    new_data.append(new_row)\n",
    "\n",
    "cleaned_list = [[item for item in sublist if item is not None and item != ''] for sublist in new_data]\n",
    "\n",
    "last_score_index = None  # Initialize last_score_index before the loop\n",
    "\n",
    "for i, sublist in enumerate(cleaned_list):\n",
    "    if '必修' in sublist or '选修' in sublist or '公修' in sublist:\n",
    "        last_score_index = i\n",
    "\n",
    "if last_score_index is not None:\n",
    "    new = cleaned_list[:last_score_index + 1]\n",
    "else:\n",
    "    new = cleaned_list[:]  # If the condition is never satisfied, use the entire cleaned_list\n",
    "\n",
    "semester = None\n",
    "last_data = []\n",
    "for row in new:\n",
    "    if len(row) == 1:\n",
    "        semester = row[0]\n",
    "    else:\n",
    "        row.append(semester)\n",
    "        last_data.append(row)\n",
    "\n",
    "# Create a workbook and select the active worksheet\n",
    "wb = Workbook()\n",
    "ws = wb.active\n",
    "detail = []\n",
    "\n",
    "# Write data to the worksheet\n",
    "for row_index, row_data in enumerate(last_data):\n",
    "    row_data = [info['sn']] + row_data\n",
    "    detail.append(row_data)\n",
    "    for col_index, value in enumerate(row_data):\n",
    "        ws.cell(row=row_index + 1, column=col_index + 1, value=value)\n",
    "\n",
    "# Save the workbook to a file\n",
    "wb.save(\"fact.xlsx\")\n",
    "\n",
    "print(detail)\n",
    "\n",
    "\n",
    "\n",
    "\n",
    "import mysql.connector\n",
    "\n",
    "try:\n",
    "    # Connect to MySQL database\n",
    "    connection = mysql.connector.connect(host='localhost',\n",
    "                                         database='postgraduate',\n",
    "                                         user='root',\n",
    "                                         password='root')\n",
    "\n",
    "    if connection.is_connected():\n",
    "        db_Info = connection.get_server_info()\n",
    "        print(\"Connected to MySQL Server version \", db_Info)\n",
    "\n",
    "        # Cursor object to execute SQL queries\n",
    "        cursor = connection.cursor()\n",
    "\n",
    "        # Insert data into 'report' table\n",
    "        report_query = \"INSERT INTO report (sn, college, major, grade, name, total, required, specialized, public, date) VALUES (%s, %s, %s, %s, %s, %s, %s, %s, %s, %s)\"\n",
    "        report_data = (info['sn'], info.get('collage'), info.get('major'), info['grade'], info['name'], info.get('total'), info.get('required'), info.get('specialized'), info.get('public'), info.get('data'))\n",
    "        cursor.execute(report_query, report_data)\n",
    "\n",
    "        # Insert data into 'rule' table\n",
    "        rule_query = \"INSERT INTO rule (collage, grade) VALUES (%s, %s)\"\n",
    "        rule_data = (info.get('collage'), info['grade'])\n",
    "        cursor.execute(rule_query, rule_data)\n",
    "        \n",
    "        # Iterate over the data and insert each line into the table\n",
    "        for line in detail:\n",
    "            cursor.execute(\"\"\"\n",
    "                INSERT INTO detail (sn, course, type, grade, point, semester)\n",
    "                VALUES (%s, %s, %s, %s, %s, %s)\n",
    "            \"\"\", line)\n",
    "\n",
    "        # Commit changes\n",
    "        connection.commit()\n",
    "\n",
    "except mysql.connector.Error as e:\n",
    "    print(\"Error while connecting to MySQL\", e)\n",
    "\n",
    "finally:\n",
    "    # Close cursor and database connection\n",
    "    try:\n",
    "        if connection.is_connected():\n",
    "            cursor.close()\n",
    "            connection.close()\n",
    "            print(\"MySQL connection is closed\")\n",
    "    except UnboundLocalError:\n",
    "        pass  # If an exception occurred before the connection was established"
   ],
   "metadata": {
    "collapsed": false,
    "ExecuteTime": {
     "end_time": "2024-04-16T05:07:04.655134Z",
     "start_time": "2024-04-16T05:07:04.204286Z"
    }
   },
   "id": "982617d29f60b1ca",
   "execution_count": 19
  },
  {
   "cell_type": "code",
   "outputs": [
    {
     "name": "stdout",
     "output_type": "stream",
     "text": [
      "Connected to MySQL Server version  8.0.30\n",
      "<class 'mysql.connector.cursor_cext.CMySQLCursor'>\n"
     ]
    }
   ],
   "source": [
    "import mysql.connector\n",
    "\n",
    "\n",
    "# Connect to MySQL database\n",
    "connection = mysql.connector.connect(host='localhost',\n",
    "                                     database='postgraduate',\n",
    "                                     user='root',\n",
    "                                     password='root')\n",
    "\n",
    "if connection.is_connected():\n",
    "    db_Info = connection.get_server_info()\n",
    "    print(\"Connected to MySQL Server version \", db_Info)\n",
    "\n",
    "    # Cursor object to execute SQL queries\n",
    "    cursor = connection.cursor()\n",
    "    \n",
    "print(type(cursor))"
   ],
   "metadata": {
    "collapsed": false,
    "ExecuteTime": {
     "end_time": "2024-04-17T06:40:02.487454Z",
     "start_time": "2024-04-17T06:40:02.372454Z"
    }
   },
   "id": "c54bbbc4a6882bdd",
   "execution_count": 1
  },
  {
   "cell_type": "code",
   "outputs": [
    {
     "name": "stdout",
     "output_type": "stream",
     "text": [
      "[{'value': 2020, 'label': '2020', 'children': [{'value': '大数据与智能工程学', 'label': '大数据与智能工程学'}, {'value': '大数据与智能工程学院', 'label': '大数据与智能工程学院'}, {'value': '大数据院', 'label': '大数据院'}]}, {'value': 2021, 'label': '2021', 'children': [{'value': '大数据与智能工程学', 'label': '大数据与智能工程学'}, {'value': '大数据与智能工程学院', 'label': '大数据与智能工程学院'}, {'value': '大数据院', 'label': '大数据院'}]}]\n"
     ]
    }
   ],
   "source": [
    "import core\n",
    "core.get_grades_and_collages()\n",
    "\n",
    "data = [('大数据与智能工程学院', 2020), ('大数据院', 2020), ('大数据与智能工程学', 2020), ('大数据院', 2021)]\n",
    "\n",
    "# turn data into the format of the options of the cascader element of element-ui\n",
    "# the first level is the grade, the second level is the college\n",
    "# the value and the label of each option are the same\n",
    "\n",
    "grades = list(set([d[1] for d in data]))\n",
    "grades.sort()\n",
    "colleges = list(set([d[0] for d in data]))\n",
    "colleges.sort()\n",
    "\n",
    "options = []\n",
    "for grade in grades:\n",
    "    grade_options = []\n",
    "    for college in colleges:\n",
    "        grade_options.append({'value': college, 'label': college})\n",
    "    options.append({'value': grade, 'label': str(grade), 'children': grade_options})\n",
    "    \n",
    "print(options)"
   ],
   "metadata": {
    "collapsed": false,
    "ExecuteTime": {
     "end_time": "2024-04-18T03:40:49.048030Z",
     "start_time": "2024-04-18T03:40:49.025033Z"
    }
   },
   "id": "b2607ccd43147ab8",
   "execution_count": 3
  },
  {
   "cell_type": "code",
   "outputs": [
    {
     "name": "stdout",
     "output_type": "stream",
     "text": [
      "[{'value': 2020, 'label': '2020', 'children': [{'value': '大数据与智能工程学院', 'label': '大数据与智能工程学院'}, {'value': '大数据院', 'label': '大数据院'}, {'value': '大数据与智能工程学', 'label': '大数据与智能工程学'}]}, {'value': 2021, 'label': '2021', 'children': [{'value': '大数据院', 'label': '大数据院'}]}]\n"
     ]
    }
   ],
   "source": [
    "def convert_to_cascader_options(data):\n",
    "    cascader_options = []\n",
    "\n",
    "    # Group data by grade\n",
    "    grouped_data = {}\n",
    "    for college, grade in data:\n",
    "        if grade not in grouped_data:\n",
    "            grouped_data[grade] = []\n",
    "        grouped_data[grade].append(college)\n",
    "\n",
    "    # Convert data into cascader options format\n",
    "    for grade, colleges in grouped_data.items():\n",
    "        grade_option = {'value': grade, 'label': str(grade), 'children': []}\n",
    "        college_options = [{'value': college, 'label': college} for college in colleges]\n",
    "        grade_option['children'] = college_options\n",
    "        cascader_options.append(grade_option)\n",
    "\n",
    "    return cascader_options\n",
    "\n",
    "# Example usage\n",
    "cascader_options = convert_to_cascader_options(data)\n",
    "print(cascader_options)\n"
   ],
   "metadata": {
    "collapsed": false,
    "ExecuteTime": {
     "end_time": "2024-04-18T03:45:05.575447Z",
     "start_time": "2024-04-18T03:45:05.549447Z"
    }
   },
   "id": "4ade690e6c96a508",
   "execution_count": 4
  },
  {
   "cell_type": "code",
   "outputs": [
    {
     "name": "stdout",
     "output_type": "stream",
     "text": [
      "[('大数据与智能工程学院', 2020), ('大数据院', 2020), ('大数据与智能工程学', 2020), ('大数据院', 2021)]\n"
     ]
    },
    {
     "ename": "AttributeError",
     "evalue": "module 'core' has no attribute 'convert_to_cascader_options'",
     "output_type": "error",
     "traceback": [
      "\u001B[1;31m---------------------------------------------------------------------------\u001B[0m",
      "\u001B[1;31mAttributeError\u001B[0m                            Traceback (most recent call last)",
      "Cell \u001B[1;32mIn[11], line 5\u001B[0m\n\u001B[0;32m      2\u001B[0m \u001B[38;5;28mprint\u001B[39m(data)\n\u001B[0;32m      3\u001B[0m core\u001B[38;5;241m.\u001B[39mget_grades_and_collages()\n\u001B[1;32m----> 5\u001B[0m \u001B[38;5;28mprint\u001B[39m(\u001B[43mcore\u001B[49m\u001B[38;5;241;43m.\u001B[39;49m\u001B[43mconvert_to_cascader_options\u001B[49m(data))\n",
      "\u001B[1;31mAttributeError\u001B[0m: module 'core' has no attribute 'convert_to_cascader_options'"
     ]
    }
   ],
   "source": [
    "import core\n",
    "print(data)\n",
    "core.get_grades_and_collages()\n",
    "\n",
    "print(core.convert_to_cascader_options(data))"
   ],
   "metadata": {
    "collapsed": false,
    "ExecuteTime": {
     "end_time": "2024-04-18T03:50:23.081271Z",
     "start_time": "2024-04-18T03:50:23.052259Z"
    }
   },
   "id": "efac73114d0ecc9e",
   "execution_count": 11
  },
  {
   "cell_type": "code",
   "outputs": [
    {
     "name": "stdout",
     "output_type": "stream",
     "text": [
      "['FileStorage', 'Workbook', '__builtins__', '__cached__', '__doc__', '__file__', '__loader__', '__name__', '__package__', '__spec__', 'ce', 'conn', 'detail', 'extract_data', 'extract_info', 'get_grades_and_collages', 'handle_file', 'mysql_connection', 'os', 'pdfplumber', 're', 'report', 'rule', 'same_cursor', 'score_report_directory', 'traceback', 'upload_directory']\n"
     ]
    }
   ],
   "source": [
    "import core\n",
    "# display all attributes form core\n",
    "print(dir(core))"
   ],
   "metadata": {
    "collapsed": false,
    "ExecuteTime": {
     "end_time": "2024-04-18T03:51:35.762306Z",
     "start_time": "2024-04-18T03:51:35.744306Z"
    }
   },
   "id": "101f31f1fe949d98",
   "execution_count": 12
  },
  {
   "cell_type": "code",
   "outputs": [
    {
     "name": "stdout",
     "output_type": "stream",
     "text": [
      "Connected to the MySQL database\n",
      "[('大数据与智能工程学院', 2020), ('大数据院', 2020), ('大数据与智能工程学', 2020), ('大数据院', 2021)]\n",
      "[{'value': 2020, 'label': '2020', 'children': [{'value': '大数据与智能工程学院', 'label': '大数据与智能工程学院'}, {'value': '大数据院', 'label': '大数据院'}, {'value': '大数据与智能工程学', 'label': '大数据与智能工程学'}]}, {'value': 2021, 'label': '2021', 'children': [{'value': '大数据院', 'label': '大数据院'}]}]\n"
     ]
    }
   ],
   "source": [
    "# reload the module of core\n",
    "import importlib\n",
    "importlib.reload(core)\n",
    "\n",
    "print(data)\n",
    "core.get_grades_and_collages()\n",
    "\n",
    "print(core.convert_to_cascader_options(data))\n"
   ],
   "metadata": {
    "collapsed": false,
    "ExecuteTime": {
     "end_time": "2024-04-18T12:18:31.196618Z",
     "start_time": "2024-04-18T12:18:31.177621Z"
    }
   },
   "id": "ff706b30d85720f3",
   "execution_count": 18
  },
  {
   "cell_type": "code",
   "outputs": [
    {
     "name": "stdout",
     "output_type": "stream",
     "text": [
      "Connected to the MySQL database\n",
      "{'id': 48, 'college': '大数据与智能工程学院', 'grade': 2020, 'specialized': None, 'public': None, 'policy': None, 'pe': None, 'skill': None, 'theory': None, 'score': None, 'comprehensive': None}\n"
     ]
    }
   ],
   "source": [
    "import core\n",
    "\n",
    "\n",
    "\n",
    "res = core.get_rule_data( 2020, \"大数据与智能工程学院\",)\n",
    "\n",
    "print(res)"
   ],
   "metadata": {
    "collapsed": false,
    "ExecuteTime": {
     "end_time": "2024-04-19T00:42:29.002282Z",
     "start_time": "2024-04-19T00:42:28.509251Z"
    }
   },
   "id": "362948ac48ab7015",
   "execution_count": 1
  },
  {
   "cell_type": "code",
   "outputs": [
    {
     "name": "stdout",
     "output_type": "stream",
     "text": [
      "Connected to the MySQL database\n",
      "(48, '大数据与智能工程学院', 2020, None, None, None, None, None, None, None, None)\n"
     ]
    }
   ],
   "source": [],
   "metadata": {
    "collapsed": false,
    "ExecuteTime": {
     "end_time": "2024-04-19T00:41:38.435333Z",
     "start_time": "2024-04-19T00:41:38.402334Z"
    }
   },
   "id": "b92126c9b28f3506",
   "execution_count": 9
  },
  {
   "cell_type": "code",
   "outputs": [
    {
     "ename": "TypeError",
     "evalue": "get_rule_data() missing 1 required positional argument: 'cursor'",
     "output_type": "error",
     "traceback": [
      "\u001B[1;31m---------------------------------------------------------------------------\u001B[0m",
      "\u001B[1;31mTypeError\u001B[0m                                 Traceback (most recent call last)",
      "Cell \u001B[1;32mIn[8], line 2\u001B[0m\n\u001B[0;32m      1\u001B[0m \u001B[38;5;28;01mimport\u001B[39;00m \u001B[38;5;21;01mrule\u001B[39;00m\n\u001B[1;32m----> 2\u001B[0m \u001B[43mrule\u001B[49m\u001B[38;5;241;43m.\u001B[39;49m\u001B[43mget_rule_data\u001B[49m\u001B[43m(\u001B[49m\u001B[38;5;241;43m2020\u001B[39;49m\u001B[43m,\u001B[49m\u001B[43m \u001B[49m\u001B[38;5;124;43m\"\u001B[39;49m\u001B[38;5;124;43m大数据与智能工程学院\u001B[39;49m\u001B[38;5;124;43m\"\u001B[39;49m\u001B[43m)\u001B[49m\n",
      "\u001B[1;31mTypeError\u001B[0m: get_rule_data() missing 1 required positional argument: 'cursor'"
     ]
    }
   ],
   "source": [],
   "metadata": {
    "collapsed": false,
    "ExecuteTime": {
     "end_time": "2024-04-19T00:41:21.757923Z",
     "start_time": "2024-04-19T00:41:20.816181Z"
    }
   },
   "id": "fc71526e49e9eae8",
   "execution_count": 8
  },
  {
   "cell_type": "code",
   "outputs": [
    {
     "name": "stdout",
     "output_type": "stream",
     "text": [
      "Error in generate_options: 1146 (42S02): Table 'postgraduate.your_table' doesn't exist\n"
     ]
    }
   ],
   "source": [
    "from flask import Flask, jsonify\n",
    "import mysql.connector\n",
    "\n",
    "# Function to generate options for el-cascader\n",
    "def generate_options():\n",
    "    try:\n",
    "        # Connect to MySQL database\n",
    "        cnx = mysql.connector.connect(user='root', password='root',\n",
    "                                      host='localhost', database='postgraduate')\n",
    "        cursor = cnx.cursor()\n",
    "\n",
    "        # Query to fetch options data\n",
    "        query = (\"SELECT grade, college, major, sn FROM your_table ORDER BY grade, college, major, sn\")\n",
    "\n",
    "        # Execute the query\n",
    "        cursor.execute(query)\n",
    "\n",
    "        options = []\n",
    "        grades = {}\n",
    "        colleges = {}\n",
    "        majors = {}\n",
    "        for grade, college, major, sn in cursor:\n",
    "            if grade not in grades:\n",
    "                grades[grade] = {}\n",
    "            if college not in grades[grade]:\n",
    "                grades[grade][college] = {}\n",
    "            if major not in grades[grade][college]:\n",
    "                grades[grade][college][major] = []\n",
    "            grades[grade][college][major].append(sn)\n",
    "\n",
    "        # Close cursor and connection\n",
    "        cursor.close()\n",
    "        cnx.close()\n",
    "\n",
    "        return grades\n",
    "    except Exception as e:\n",
    "        print(\"Error in generate_options:\", e)\n",
    "        return {}\n",
    "\n",
    "# Function to query data from the database\n",
    "def query_database():\n",
    "    try:\n",
    "        # Connect to MySQL database\n",
    "        cnx = mysql.connector.connect(user='your_username', password='your_password',\n",
    "                                      host='localhost', database='your_database')\n",
    "        cursor = cnx.cursor()\n",
    "\n",
    "        # Query example\n",
    "        query = (\"SELECT * FROM your_table\")\n",
    "\n",
    "        # Execute the query\n",
    "        cursor.execute(query)\n",
    "\n",
    "        # Process the results\n",
    "\n",
    "        # Close cursor and connection\n",
    "        cursor.close()\n",
    "        cnx.close()\n",
    "\n",
    "        return data\n",
    "    except Exception as e:\n",
    "        print(\"Error in query_database:\", e)\n",
    "        return []\n",
    "\n",
    "options = generate_options()"
   ],
   "metadata": {
    "collapsed": false,
    "ExecuteTime": {
     "end_time": "2024-04-20T03:12:05.539252Z",
     "start_time": "2024-04-20T03:12:05.468255Z"
    }
   },
   "id": "6391bc28bd4ab996",
   "execution_count": 3
  },
  {
   "cell_type": "code",
   "outputs": [
    {
     "name": "stdout",
     "output_type": "stream",
     "text": [
      "Connected to the MySQL database\n"
     ]
    }
   ],
   "source": [
    "import mysql_connection\n",
    "conn = mysql_connection.connect_to_database()\n",
    "cursor = conn.cursor()\n",
    "line = ('20180152016', '大数据与智能工程学院', '计算机科学与技术', 2020, 1, '肖晨亮' )\n",
    "1\n",
    "cursor.execute(\"\"\"\n",
    "                        INSERT INTO detail (sn, course, type, grade, point, semester)\n",
    "                        VALUES (%s, %s, %s, %s, %s, %s)\n",
    "                    \"\"\", line)\n",
    "conn.commit()\n",
    "conn.rollback()"
   ],
   "metadata": {
    "collapsed": false,
    "ExecuteTime": {
     "end_time": "2024-04-24T02:24:25.385656Z",
     "start_time": "2024-04-24T02:24:25.359485Z"
    }
   },
   "id": "b3b2de52a18365d7",
   "execution_count": 6
  },
  {
   "cell_type": "code",
   "outputs": [
    {
     "name": "stdout",
     "output_type": "stream",
     "text": [
      "Connected to the MySQL database\n",
      "Connected to the MySQL database\n",
      "Connected to the MySQL database\n",
      "Changed the required field to 0 for the course 形势与政策(1) of sn 20187584962\n",
      "Changed the required field to 0 for the course 形势与政策(2) of sn 20187584962\n",
      "Changed the required field to 0 for the course 形势与政策(3) of sn 20187584962\n",
      "Changed the required field to 0 for the course 形势与政策(4) of sn 20187584962\n",
      "Changed the required field to 0 for the course 形势与政策(5) of sn 20187584962\n",
      "Changed the required field to 0 for the course 形势与政策(6) of sn 20187584962\n",
      "Changed the required field to 0 for the course 形势与政策(7) of sn 20187584962\n",
      "Changed the required field to 0 for the course 形势与政策(8) of sn 20187584962\n",
      "Changed the required field to 0 for the course 体育(1) of sn 20187584962\n",
      "Changed the required field to 0 for the course 体育(2) of sn 20187584962\n",
      "Changed the required field to 0 for the course 体育(3) of sn 20187584962\n",
      "Changed the required field to 0 for the course 体育(4) of sn 20187584962\n",
      "Changed the required field to 0 for the course 军事技能 of sn 20187584962\n",
      "Changed the required field to 0 for the course 体育(4) of sn 20187584962\n",
      "Changed the required field to 0 for the sn 20187584962\n",
      "Changed the required field to 0 for the sn 20187584962\n",
      "The required field is updated\n"
     ]
    }
   ],
   "source": [
    "import core\n",
    "res = core.set_required(\"20187584962\")\n",
    "print(res)"
   ],
   "metadata": {
    "collapsed": false,
    "ExecuteTime": {
     "end_time": "2024-04-24T15:03:58.944855Z",
     "start_time": "2024-04-24T15:03:58.869855Z"
    }
   },
   "id": "eb6558d6aa2d7795",
   "execution_count": 4
  },
  {
   "cell_type": "code",
   "outputs": [
    {
     "name": "stdout",
     "output_type": "stream",
     "text": [
      "Connected to the MySQL database\n",
      "Connected to the MySQL database\n",
      "Connected to the MySQL database\n",
      "Changed the required field to 0 for the course 形势与政策(1) of sn 20187584962\n",
      "Changed the required field to 0 for the course 形势与政策(2) of sn 20187584962\n",
      "Changed the required field to 0 for the course 形势与政策(3) of sn 20187584962\n",
      "Changed the required field to 0 for the course 形势与政策(4) of sn 20187584962\n",
      "Changed the required field to 0 for the course 形势与政策(5) of sn 20187584962\n",
      "Changed the required field to 0 for the course 形势与政策(6) of sn 20187584962\n",
      "Changed the required field to 0 for the course 形势与政策(7) of sn 20187584962\n",
      "Changed the required field to 0 for the course 形势与政策(8) of sn 20187584962\n",
      "Changed the required field to 0 for the course 体育(1) of sn 20187584962\n",
      "Changed the required field to 0 for the course 体育(2) of sn 20187584962\n",
      "Changed the required field to 0 for the course 体育(3) of sn 20187584962\n",
      "Changed the required field to 0 for the course 体育(4) of sn 20187584962\n",
      "Changed the required field to 0 for the course 军事技能 of sn 20187584962\n",
      "Changed the required field to 0 for the course 军事理论 of sn 20187584962\n",
      "Changed the required field to 0 for the sn 20187584962\n",
      "Changed the required field to 0 for the sn 20187584962\n"
     ]
    }
   ],
   "source": [
    "# reload the module of core\n",
    "import importlib\n",
    "importlib.reload(core)\n",
    "\n",
    "res = core.set_required(\"20187584962\")"
   ],
   "metadata": {
    "collapsed": false,
    "ExecuteTime": {
     "end_time": "2024-04-24T15:04:23.039408Z",
     "start_time": "2024-04-24T15:04:22.964425Z"
    }
   },
   "id": "2257d01bf923100b",
   "execution_count": 5
  },
  {
   "cell_type": "code",
   "outputs": [
    {
     "ename": "AttributeError",
     "evalue": "module 'detail' has no attribute 'select_sn_from_detail_table_by_grade_and_college'",
     "output_type": "error",
     "traceback": [
      "\u001B[1;31m---------------------------------------------------------------------------\u001B[0m",
      "\u001B[1;31mAttributeError\u001B[0m                            Traceback (most recent call last)",
      "Cell \u001B[1;32mIn[7], line 2\u001B[0m\n\u001B[0;32m      1\u001B[0m \u001B[38;5;28;01mimport\u001B[39;00m \u001B[38;5;21;01mdetail\u001B[39;00m\n\u001B[1;32m----> 2\u001B[0m \u001B[43mdetail\u001B[49m\u001B[38;5;241;43m.\u001B[39;49m\u001B[43mselect_sn_from_detail_table_by_grade_and_college\u001B[49m(\u001B[38;5;241m2020\u001B[39m, \u001B[38;5;124m\"\u001B[39m\u001B[38;5;124m大数据与智能工程学院\u001B[39m\u001B[38;5;124m\"\u001B[39m)\n",
      "\u001B[1;31mAttributeError\u001B[0m: module 'detail' has no attribute 'select_sn_from_detail_table_by_grade_and_college'"
     ]
    }
   ],
   "source": [
    "import detail\n",
    "detail.select_sn_from_detail_table_by_grade_and_college(2020, \"大数据与智能工程学院\")"
   ],
   "metadata": {
    "collapsed": false,
    "ExecuteTime": {
     "end_time": "2024-04-25T02:08:56.599429Z",
     "start_time": "2024-04-25T02:08:56.573429Z"
    }
   },
   "id": "60c557eab57ba27d",
   "execution_count": 7
  },
  {
   "cell_type": "code",
   "outputs": [
    {
     "ename": "TypeError",
     "evalue": "select_sn_from_detail_table_by_grade_and_college() missing 1 required positional argument: 'cursor'",
     "output_type": "error",
     "traceback": [
      "\u001B[1;31m---------------------------------------------------------------------------\u001B[0m",
      "\u001B[1;31mTypeError\u001B[0m                                 Traceback (most recent call last)",
      "Cell \u001B[1;32mIn[9], line 5\u001B[0m\n\u001B[0;32m      2\u001B[0m \u001B[38;5;28;01mimport\u001B[39;00m \u001B[38;5;21;01mimportlib\u001B[39;00m\n\u001B[0;32m      3\u001B[0m importlib\u001B[38;5;241m.\u001B[39mreload(detail)\n\u001B[1;32m----> 5\u001B[0m \u001B[43mdetail\u001B[49m\u001B[38;5;241;43m.\u001B[39;49m\u001B[43mselect_sn_from_detail_table_by_grade_and_college\u001B[49m\u001B[43m(\u001B[49m\u001B[38;5;241;43m2020\u001B[39;49m\u001B[43m,\u001B[49m\u001B[43m \u001B[49m\u001B[38;5;124;43m\"\u001B[39;49m\u001B[38;5;124;43m大数据与智能工程学院\u001B[39;49m\u001B[38;5;124;43m\"\u001B[39;49m\u001B[43m)\u001B[49m\n",
      "\u001B[1;31mTypeError\u001B[0m: select_sn_from_detail_table_by_grade_and_college() missing 1 required positional argument: 'cursor'"
     ]
    }
   ],
   "source": [
    "# reload the module of detail\n",
    "import importlib\n",
    "importlib.reload(detail)\n",
    "\n",
    "detail.select_sn_from_detail_table_by_grade_and_college(2020, \"大数据与智能工程学院\")"
   ],
   "metadata": {
    "collapsed": false,
    "ExecuteTime": {
     "end_time": "2024-04-25T02:11:38.275775Z",
     "start_time": "2024-04-25T02:11:38.209775Z"
    }
   },
   "id": "fdbb7150eb49f632",
   "execution_count": 9
  },
  {
   "cell_type": "code",
   "outputs": [
    {
     "name": "stdout",
     "output_type": "stream",
     "text": [
      "Connected to the MySQL database\n"
     ]
    },
    {
     "data": {
      "text/plain": "['20174845690', '20174859612', '21594111111', '20180152016']"
     },
     "execution_count": 2,
     "metadata": {},
     "output_type": "execute_result"
    }
   ],
   "source": [
    "import core\n",
    "\n",
    "core.get_sn_by_college_and_grade(\"大数据与智能工程学院\", 2020)\n"
   ],
   "metadata": {
    "collapsed": false,
    "ExecuteTime": {
     "end_time": "2024-04-25T02:27:00.115951Z",
     "start_time": "2024-04-25T02:27:00.084953Z"
    }
   },
   "id": "9fa9cb0d8271b757",
   "execution_count": 2
  },
  {
   "cell_type": "code",
   "outputs": [],
   "source": [
    "import report"
   ],
   "metadata": {
    "collapsed": false,
    "ExecuteTime": {
     "end_time": "2024-04-25T02:22:43.548454Z",
     "start_time": "2024-04-25T02:22:43.529733Z"
    }
   },
   "id": "b7184f6be19640dd",
   "execution_count": 17
  },
  {
   "cell_type": "code",
   "outputs": [
    {
     "name": "stdout",
     "output_type": "stream",
     "text": [
      "Connected to the MySQL database\n"
     ]
    },
    {
     "data": {
      "text/plain": "[{'id': 14559,\n  'sn': '20187584962',\n  'course': '大学计算机基础与计算思维',\n  'type': '必修',\n  'point': Decimal('3.00'),\n  'grade': 84,\n  'required': 1,\n  'semester': '2018-2019学年 第1学期'},\n {'id': 14560,\n  'sn': '20187584962',\n  'course': '大学生心理健康教育',\n  'type': '必修',\n  'point': Decimal('2.00'),\n  'grade': 96,\n  'required': 1,\n  'semester': '2018-2019学年 第1学期'},\n {'id': 14561,\n  'sn': '20187584962',\n  'course': '大学生职业生涯规划',\n  'type': '必修',\n  'point': Decimal('1.00'),\n  'grade': 87,\n  'required': 1,\n  'semester': '2018-2019学年 第1学期'},\n {'id': 14562,\n  'sn': '20187584962',\n  'course': '思想道德修养与法律基础',\n  'type': '必修',\n  'point': Decimal('2.00'),\n  'grade': 90,\n  'required': 1,\n  'semester': '2018-2019学年 第1学期'},\n {'id': 14563,\n  'sn': '20187584962',\n  'course': '体育(1)',\n  'type': '必修',\n  'point': Decimal('1.00'),\n  'grade': 81,\n  'required': 0,\n  'semester': '2018-2019学年 第1学期'},\n {'id': 14564,\n  'sn': '20187584962',\n  'course': '英语(1)',\n  'type': '必修',\n  'point': Decimal('4.00'),\n  'grade': 88,\n  'required': 1,\n  'semester': '2018-2019学年 第1学期'},\n {'id': 14565,\n  'sn': '20187584962',\n  'course': '高等代数与几何(2)',\n  'type': '必修',\n  'point': Decimal('4.00'),\n  'grade': 97,\n  'required': 1,\n  'semester': '2018-2019学年 第2学期'},\n {'id': 14566,\n  'sn': '20187584962',\n  'course': '体育(2)',\n  'type': '必修',\n  'point': Decimal('1.00'),\n  'grade': 90,\n  'required': 0,\n  'semester': '2018-2019学年 第2学期'},\n {'id': 14567,\n  'sn': '20187584962',\n  'course': '英语(2)',\n  'type': '必修',\n  'point': Decimal('4.00'),\n  'grade': 71,\n  'required': 1,\n  'semester': '2018-2019学年 第2学期'},\n {'id': 14568,\n  'sn': '20187584962',\n  'course': '中国近现代史纲要',\n  'type': '必修',\n  'point': Decimal('3.00'),\n  'grade': 77,\n  'required': 1,\n  'semester': '2018-2019学年 第2学期'},\n {'id': 14569,\n  'sn': '20187584962',\n  'course': 'C语言程序设计',\n  'type': '必修',\n  'point': Decimal('4.00'),\n  'grade': 95,\n  'required': 1,\n  'semester': '2020-2021学年 第1学期'},\n {'id': 14570,\n  'sn': '20187584962',\n  'course': 'C语言程序设计实习',\n  'type': '必修',\n  'point': Decimal('0.50'),\n  'grade': 99,\n  'required': 1,\n  'semester': '2020-2021学年 第1学期'},\n {'id': 14571,\n  'sn': '20187584962',\n  'course': 'Linux应用',\n  'type': '必修',\n  'point': Decimal('2.00'),\n  'grade': 92,\n  'required': 1,\n  'semester': '2020-2021学年 第1学期'},\n {'id': 14572,\n  'sn': '20187584962',\n  'course': '电路与模拟电子技术',\n  'type': '必修',\n  'point': Decimal('3.00'),\n  'grade': 92,\n  'required': 1,\n  'semester': '2020-2021学年 第1学期'},\n {'id': 14573,\n  'sn': '20187584962',\n  'course': '高等数学A(1)',\n  'type': '必修',\n  'point': Decimal('5.00'),\n  'grade': 98,\n  'required': 1,\n  'semester': '2020-2021学年 第1学期'},\n {'id': 14574,\n  'sn': '20187584962',\n  'course': '计算机科学与技术导论',\n  'type': '必修',\n  'point': Decimal('1.00'),\n  'grade': 84,\n  'required': 1,\n  'semester': '2020-2021学年 第1学期'},\n {'id': 14575,\n  'sn': '20187584962',\n  'course': '计算机网络',\n  'type': '必修',\n  'point': Decimal('3.00'),\n  'grade': 92,\n  'required': 1,\n  'semester': '2020-2021学年 第1学期'},\n {'id': 14576,\n  'sn': '20187584962',\n  'course': '计算机网络实习',\n  'type': '必修',\n  'point': Decimal('0.50'),\n  'grade': 96,\n  'required': 1,\n  'semester': '2020-2021学年 第1学期'},\n {'id': 14577,\n  'sn': '20187584962',\n  'course': '军事技能',\n  'type': '必修',\n  'point': Decimal('2.00'),\n  'grade': 79,\n  'required': 0,\n  'semester': '2020-2021学年 第1学期'},\n {'id': 14578,\n  'sn': '20187584962',\n  'course': '军事理论',\n  'type': '必修',\n  'point': Decimal('2.00'),\n  'grade': 79,\n  'required': 0,\n  'semester': '2020-2021学年 第1学期'},\n {'id': 14579,\n  'sn': '20187584962',\n  'course': '数据科学导论',\n  'type': '必修',\n  'point': Decimal('2.00'),\n  'grade': 78,\n  'required': 1,\n  'semester': '2020-2021学年 第1学期'},\n {'id': 14580,\n  'sn': '20187584962',\n  'course': 'Python程序设计实习',\n  'type': '必修',\n  'point': Decimal('1.00'),\n  'grade': 81,\n  'required': 1,\n  'semester': '2020-2021学年 第2学期'},\n {'id': 14581,\n  'sn': '20187584962',\n  'course': '大学生创新创业基础',\n  'type': '必修',\n  'point': Decimal('2.00'),\n  'grade': 83,\n  'required': 1,\n  'semester': '2020-2021学年 第2学期'},\n {'id': 14582,\n  'sn': '20187584962',\n  'course': '大学物理',\n  'type': '必修',\n  'point': Decimal('4.00'),\n  'grade': 83,\n  'required': 1,\n  'semester': '2020-2021学年 第2学期'},\n {'id': 14583,\n  'sn': '20187584962',\n  'course': '高等数学A(2)',\n  'type': '必修',\n  'point': Decimal('4.00'),\n  'grade': 96,\n  'required': 1,\n  'semester': '2020-2021学年 第2学期'},\n {'id': 14584,\n  'sn': '20187584962',\n  'course': '林学概论',\n  'type': '必修',\n  'point': Decimal('1.00'),\n  'grade': 85,\n  'required': 1,\n  'semester': '2020-2021学年 第2学期'},\n {'id': 14585,\n  'sn': '20187584962',\n  'course': '数据库原理与应用',\n  'type': '必修',\n  'point': Decimal('4.00'),\n  'grade': 81,\n  'required': 1,\n  'semester': '2020-2021学年 第2学期'},\n {'id': 14586,\n  'sn': '20187584962',\n  'course': '线性代数A',\n  'type': '必修',\n  'point': Decimal('3.00'),\n  'grade': 98,\n  'required': 1,\n  'semester': '2020-2021学年 第2学期'},\n {'id': 14587,\n  'sn': '20187584962',\n  'course': 'Java程序设计',\n  'type': '必修',\n  'point': Decimal('4.00'),\n  'grade': 92,\n  'required': 1,\n  'semester': '2021-2022学年 第1学期'},\n {'id': 14588,\n  'sn': '20187584962',\n  'course': 'UI设计',\n  'type': '必修',\n  'point': Decimal('4.00'),\n  'grade': 91,\n  'required': 1,\n  'semester': '2021-2022学年 第1学期'},\n {'id': 14589,\n  'sn': '20187584962',\n  'course': 'UI设计实习',\n  'type': '必修',\n  'point': Decimal('1.00'),\n  'grade': 76,\n  'required': 1,\n  'semester': '2021-2022学年 第1学期'},\n {'id': 14590,\n  'sn': '20187584962',\n  'course': '概率论与数理统计B',\n  'type': '必修',\n  'point': Decimal('3.00'),\n  'grade': 95,\n  'required': 1,\n  'semester': '2021-2022学年 第1学期'},\n {'id': 14591,\n  'sn': '20187584962',\n  'course': '离散数学',\n  'type': '必修',\n  'point': Decimal('4.00'),\n  'grade': 97,\n  'required': 1,\n  'semester': '2021-2022学年 第1学期'},\n {'id': 14592,\n  'sn': '20187584962',\n  'course': '马克思主义基本原理概论',\n  'type': '必修',\n  'point': Decimal('3.00'),\n  'grade': 92,\n  'required': 1,\n  'semester': '2021-2022学年 第1学期'},\n {'id': 14593,\n  'sn': '20187584962',\n  'course': '数字逻辑',\n  'type': '必修',\n  'point': Decimal('3.00'),\n  'grade': 92,\n  'required': 1,\n  'semester': '2021-2022学年 第1学期'},\n {'id': 14594,\n  'sn': '20187584962',\n  'course': '体育(3)',\n  'type': '必修',\n  'point': Decimal('1.00'),\n  'grade': 99,\n  'required': 0,\n  'semester': '2021-2022学年 第1学期'},\n {'id': 14595,\n  'sn': '20187584962',\n  'course': '形势与政策(3)',\n  'type': '必修',\n  'point': Decimal('0.25'),\n  'grade': 90,\n  'required': 0,\n  'semester': '2021-2022学年 第1学期'},\n {'id': 14596,\n  'sn': '20187584962',\n  'course': '英语(3)',\n  'type': '必修',\n  'point': Decimal('4.00'),\n  'grade': 86,\n  'required': 1,\n  'semester': '2021-2022学年 第1学期'},\n {'id': 14597,\n  'sn': '20187584962',\n  'course': 'Python程序设计',\n  'type': '必修',\n  'point': Decimal('4.00'),\n  'grade': 72,\n  'required': 1,\n  'semester': '2021-2022学年 第2学期'},\n {'id': 14598,\n  'sn': '20187584962',\n  'course': 'Web程序设计',\n  'type': '必修',\n  'point': Decimal('4.00'),\n  'grade': 88,\n  'required': 1,\n  'semester': '2021-2022学年 第2学期'},\n {'id': 14599,\n  'sn': '20187584962',\n  'course': 'Web程序设计实习',\n  'type': '必修',\n  'point': Decimal('1.00'),\n  'grade': 88,\n  'required': 1,\n  'semester': '2021-2022学年 第2学期'},\n {'id': 14600,\n  'sn': '20187584962',\n  'course': '计算机图形学',\n  'type': '必修',\n  'point': Decimal('2.00'),\n  'grade': 91,\n  'required': 1,\n  'semester': '2021-2022学年 第2学期'},\n {'id': 14601,\n  'sn': '20187584962',\n  'course': '计算机组成原理',\n  'type': '必修',\n  'point': Decimal('3.00'),\n  'grade': 90,\n  'required': 1,\n  'semester': '2021-2022学年 第2学期'},\n {'id': 14602,\n  'sn': '20187584962',\n  'course': '毛泽东思想和中国特色社会主义理论体系概论',\n  'type': '必修',\n  'point': Decimal('4.00'),\n  'grade': 85,\n  'required': 1,\n  'semester': '2021-2022学年 第2学期'},\n {'id': 14603,\n  'sn': '20187584962',\n  'course': '数据结构',\n  'type': '必修',\n  'point': Decimal('4.00'),\n  'grade': 89,\n  'required': 1,\n  'semester': '2021-2022学年 第2学期'},\n {'id': 14604,\n  'sn': '20187584962',\n  'course': '数据结构实习',\n  'type': '必修',\n  'point': Decimal('1.00'),\n  'grade': 94,\n  'required': 1,\n  'semester': '2021-2022学年 第2学期'},\n {'id': 14605,\n  'sn': '20187584962',\n  'course': '体育(4)',\n  'type': '必修',\n  'point': Decimal('1.00'),\n  'grade': 90,\n  'required': 0,\n  'semester': '2021-2022学年 第2学期'},\n {'id': 14606,\n  'sn': '20187584962',\n  'course': '无人机技术与应用',\n  'type': '公修',\n  'point': Decimal('2.00'),\n  'grade': 82,\n  'required': 0,\n  'semester': '2021-2022学年 第2学期'},\n {'id': 14607,\n  'sn': '20187584962',\n  'course': '形势与政策(4)',\n  'type': '必修',\n  'point': Decimal('0.25'),\n  'grade': 85,\n  'required': 0,\n  'semester': '2021-2022学年 第2学期'},\n {'id': 14608,\n  'sn': '20187584962',\n  'course': '英语(4)',\n  'type': '必修',\n  'point': Decimal('4.00'),\n  'grade': 78,\n  'required': 1,\n  'semester': '2021-2022学年 第2学期'},\n {'id': 14609,\n  'sn': '20187584962',\n  'course': '操作系统原理',\n  'type': '必修',\n  'point': Decimal('4.00'),\n  'grade': 98,\n  'required': 1,\n  'semester': '2022-2023学年 第1学期'},\n {'id': 14610,\n  'sn': '20187584962',\n  'course': '考研英语技巧与实训',\n  'type': '公修',\n  'point': Decimal('2.00'),\n  'grade': 84,\n  'required': 0,\n  'semester': '2022-2023学年 第1学期'},\n {'id': 14611,\n  'sn': '20187584962',\n  'course': '数据仓库与数据挖掘',\n  'type': '选修',\n  'point': Decimal('2.00'),\n  'grade': 80,\n  'required': 0,\n  'semester': '2022-2023学年 第1学期'},\n {'id': 14612,\n  'sn': '20187584962',\n  'course': '形势与政策(5)',\n  'type': '必修',\n  'point': Decimal('0.25'),\n  'grade': 85,\n  'required': 0,\n  'semester': '2022-2023学年 第1学期'},\n {'id': 14613,\n  'sn': '20187584962',\n  'course': '遥感原理与遥感图像处理',\n  'type': '选修',\n  'point': Decimal('3.00'),\n  'grade': 92,\n  'required': 0,\n  'semester': '2022-2023学年 第1学期'},\n {'id': 14614,\n  'sn': '20187584962',\n  'course': '移动应用开发',\n  'type': '必修',\n  'point': Decimal('3.00'),\n  'grade': 98,\n  'required': 1,\n  'semester': '2022-2023学年 第1学期'},\n {'id': 14615,\n  'sn': '20187584962',\n  'course': '综合实习一',\n  'type': '必修',\n  'point': Decimal('2.00'),\n  'grade': 88,\n  'required': 1,\n  'semester': '2022-2023学年 第1学期'},\n {'id': 14616,\n  'sn': '20187584962',\n  'course': '编译技术',\n  'type': '必修',\n  'point': Decimal('3.00'),\n  'grade': 70,\n  'required': 1,\n  'semester': '2022-2023学年 第2学期'},\n {'id': 14617,\n  'sn': '20187584962',\n  'course': '大数据平台技术',\n  'type': '选修',\n  'point': Decimal('3.00'),\n  'grade': 96,\n  'required': 0,\n  'semester': '2022-2023学年 第2学期'},\n {'id': 14618,\n  'sn': '20187584962',\n  'course': '就业指导',\n  'type': '必修',\n  'point': Decimal('2.00'),\n  'grade': 90,\n  'required': 1,\n  'semester': '2022-2023学年 第2学期'},\n {'id': 14619,\n  'sn': '20187584962',\n  'course': '软件工程',\n  'type': '必修',\n  'point': Decimal('3.00'),\n  'grade': 85,\n  'required': 1,\n  'semester': '2022-2023学年 第2学期'},\n {'id': 14620,\n  'sn': '20187584962',\n  'course': '算法设计与分析',\n  'type': '必修',\n  'point': Decimal('3.00'),\n  'grade': 94,\n  'required': 1,\n  'semester': '2022-2023学年 第2学期'},\n {'id': 14621,\n  'sn': '20187584962',\n  'course': '形势与政策(6)',\n  'type': '必修',\n  'point': Decimal('0.25'),\n  'grade': 85,\n  'required': 0,\n  'semester': '2022-2023学年 第2学期'},\n {'id': 14622,\n  'sn': '20187584962',\n  'course': '中国古典小说巅峰-四大名著鉴赏',\n  'type': '公修',\n  'point': Decimal('2.00'),\n  'grade': 98,\n  'required': 0,\n  'semester': '2022-2023学年 第2学期'},\n {'id': 14623,\n  'sn': '20187584962',\n  'course': '综合实习二',\n  'type': '必修',\n  'point': Decimal('3.00'),\n  'grade': 88,\n  'required': 1,\n  'semester': '2022-2023学年 第2学期'},\n {'id': 14624,\n  'sn': '20187584962',\n  'course': '计算机系统结构',\n  'type': '必修',\n  'point': Decimal('2.00'),\n  'grade': 90,\n  'required': 1,\n  'semester': '2023-2024学年 第1学期'},\n {'id': 14625,\n  'sn': '20187584962',\n  'course': '形势与政策(7)',\n  'type': '必修',\n  'point': Decimal('0.25'),\n  'grade': 85,\n  'required': 0,\n  'semester': '2023-2024学年 第1学期'},\n {'id': 14626,\n  'sn': '20187584962',\n  'course': '行为生活方式与健康',\n  'type': '公修',\n  'point': Decimal('2.00'),\n  'grade': 79,\n  'required': 0,\n  'semester': '2023-2024学年 第1学期'},\n {'id': 14627,\n  'sn': '20187584962',\n  'course': '林学概论实习',\n  'type': '必修',\n  'point': Decimal('1.00'),\n  'grade': 90,\n  'required': 1,\n  'semester': '2023-2024学年 第2学期'}]"
     },
     "execution_count": 3,
     "metadata": {},
     "output_type": "execute_result"
    }
   ],
   "source": [
    "\n",
    "core.get_sn_detail_from_detail_table(\"20187584962\")"
   ],
   "metadata": {
    "collapsed": false,
    "ExecuteTime": {
     "end_time": "2024-04-25T04:10:56.050328Z",
     "start_time": "2024-04-25T04:10:56.002330Z"
    }
   },
   "id": "a022ecd867467a2b",
   "execution_count": 3
  },
  {
   "cell_type": "code",
   "outputs": [
    {
     "name": "stdout",
     "output_type": "stream",
     "text": [
      "Connected to the MySQL database\n"
     ]
    },
    {
     "data": {
      "text/plain": "Decimal('88.43309859154929577464788732')"
     },
     "execution_count": 1,
     "metadata": {},
     "output_type": "execute_result"
    }
   ],
   "source": [
    "import core\n",
    "core.calculate_score(\"20187584962\")"
   ],
   "metadata": {
    "collapsed": false,
    "ExecuteTime": {
     "end_time": "2024-04-25T04:13:48.759718Z",
     "start_time": "2024-04-25T04:13:48.178451Z"
    }
   },
   "id": "be41b0786f28e71a",
   "execution_count": 1
  },
  {
   "cell_type": "code",
   "outputs": [
    {
     "name": "stdout",
     "output_type": "stream",
     "text": [
      "Connected to the MySQL database\n"
     ]
    },
    {
     "ename": "AttributeError",
     "evalue": "module 'report' has no attribute 'get_grade_college_major_from_report_table'",
     "output_type": "error",
     "traceback": [
      "\u001B[1;31m---------------------------------------------------------------------------\u001B[0m",
      "\u001B[1;31mAttributeError\u001B[0m                            Traceback (most recent call last)",
      "Cell \u001B[1;32mIn[1], line 2\u001B[0m\n\u001B[0;32m      1\u001B[0m \u001B[38;5;28;01mimport\u001B[39;00m \u001B[38;5;21;01mcore\u001B[39;00m\n\u001B[1;32m----> 2\u001B[0m \u001B[43mcore\u001B[49m\u001B[38;5;241;43m.\u001B[39;49m\u001B[43mget_grade_college_major_from_report_table\u001B[49m\u001B[43m(\u001B[49m\u001B[43m)\u001B[49m\n",
      "File \u001B[1;32mD:\\file\\project\\flask_learn\\core.py:546\u001B[0m, in \u001B[0;36mget_grade_college_major_from_report_table\u001B[1;34m()\u001B[0m\n\u001B[0;32m    544\u001B[0m \u001B[38;5;28;01mwith\u001B[39;00m mysql_connection\u001B[38;5;241m.\u001B[39mconnect_to_database() \u001B[38;5;28;01mas\u001B[39;00m conn:\n\u001B[0;32m    545\u001B[0m     \u001B[38;5;28;01mwith\u001B[39;00m conn\u001B[38;5;241m.\u001B[39mcursor() \u001B[38;5;28;01mas\u001B[39;00m cursor:\n\u001B[1;32m--> 546\u001B[0m         \u001B[38;5;28;01mreturn\u001B[39;00m \u001B[43mreport\u001B[49m\u001B[38;5;241;43m.\u001B[39;49m\u001B[43mget_grade_college_major_from_report_table\u001B[49m(cursor)\n",
      "\u001B[1;31mAttributeError\u001B[0m: module 'report' has no attribute 'get_grade_college_major_from_report_table'"
     ]
    }
   ],
   "source": [
    "import core\n",
    "core.get_grade_college_major_from_report_table()"
   ],
   "metadata": {
    "collapsed": false,
    "ExecuteTime": {
     "end_time": "2024-04-26T07:39:09.681519Z",
     "start_time": "2024-04-26T07:39:08.612541Z"
    }
   },
   "id": "4e22abb7ba9c36ce",
   "execution_count": 1
  },
  {
   "cell_type": "code",
   "outputs": [
    {
     "name": "stdout",
     "output_type": "stream",
     "text": [
      "Connected to the MySQL database\n"
     ]
    },
    {
     "data": {
      "text/plain": "[(2020, '大数据与智', '计'),\n (2020, '大数据与智', '计算'),\n (2020, '大数据与智能工程学院', '计算机科'),\n (2020, '大数据与智能工程学院', '计算机科学与技术'),\n (2021, '大数据与智', '计'),\n (2021, '大数据与智能工程学院', '计算机科'),\n (2021, '大数据与智', '计算'),\n (2021, '大数据与智能工程学院', '计算机科学与技术')]"
     },
     "execution_count": 2,
     "metadata": {},
     "output_type": "execute_result"
    }
   ],
   "source": [
    "# reload the module of core\n",
    "import importlib\n",
    "importlib.reload(core)\n",
    "core.get_grade_college_major_from_report_table()"
   ],
   "metadata": {
    "collapsed": false,
    "ExecuteTime": {
     "end_time": "2024-04-26T07:40:30.816417Z",
     "start_time": "2024-04-26T07:40:30.783415Z"
    }
   },
   "id": "e60a56f11a33aa25",
   "execution_count": 2
  },
  {
   "cell_type": "code",
   "outputs": [
    {
     "name": "stdout",
     "output_type": "stream",
     "text": [
      "[{'label': '2020', 'value': '2020', 'children': [{'label': '大数据与智', 'value': '大数据与智', 'children': [{'label': '大数据与智 - 计', 'value': '大数据与智 - 计'}, {'label': '大数据与智 - 计算', 'value': '大数据与智 - 计算'}]}, {'label': '大数据与智能工程学院', 'value': '大数据与智能工程学院', 'children': [{'label': '大数据与智能工程学院 - 计算机科', 'value': '大数据与智能工程学院 - 计算机科'}, {'label': '大数据与智能工程学院 - 计算机科学与技术', 'value': '大数据与智能工程学院 - 计算机科学与技术'}]}]}, {'label': '2021', 'value': '2021', 'children': [{'label': '大数据与智', 'value': '大数据与智', 'children': [{'label': '大数据与智 - 计', 'value': '大数据与智 - 计'}, {'label': '大数据与智 - 计算', 'value': '大数据与智 - 计算'}]}, {'label': '大数据与智能工程学院', 'value': '大数据与智能工程学院', 'children': [{'label': '大数据与智能工程学院 - 计算机科', 'value': '大数据与智能工程学院 - 计算机科'}, {'label': '大数据与智能工程学院 - 计算机科学与技术', 'value': '大数据与智能工程学院 - 计算机科学与技术'}]}]}]\n"
     ]
    }
   ],
   "source": [
    "def convert_to_cascader_options(data):\n",
    "    # Sort the data by year (first element of each tuple)\n",
    "    data_sorted = sorted(data, key=lambda x: x[0])\n",
    "\n",
    "    options = []\n",
    "\n",
    "    # Create a dictionary to store parent nodes based on the year\n",
    "    parent_dict = {}\n",
    "\n",
    "    for item in data_sorted:\n",
    "        year, college, major = item\n",
    "        label = f\"{college} - {major}\"\n",
    "        value = label  # Use the label as the value\n",
    "\n",
    "        # Check if the year exists as a parent node\n",
    "        if year not in parent_dict:\n",
    "            parent_dict[year] = {'label': str(year), 'value': str(year), 'children': []}\n",
    "\n",
    "        # Check if the college exists as a child node under the year\n",
    "        college_node = next((node for node in parent_dict[year]['children'] if node['label'] == college), None)\n",
    "\n",
    "        if not college_node:\n",
    "            college_node = {'label': college, 'value': college, 'children': []}\n",
    "            parent_dict[year]['children'].append(college_node)\n",
    "\n",
    "        # Add the major as a child node under the college\n",
    "        major_node = {'label': label, 'value': value}\n",
    "        college_node['children'].append(major_node)\n",
    "\n",
    "        # Sort majors alphabetically within each college\n",
    "        college_node['children'] = sorted(college_node['children'], key=lambda x: x['label'])\n",
    "\n",
    "    # Convert parent_dict values to a list for the cascader options\n",
    "    options = [{'label': v['label'], 'value': v['value'], 'children': v['children']} for v in parent_dict.values()]\n",
    "\n",
    "    return options\n",
    "\n",
    "# Example usage:\n",
    "data = [\n",
    "    (2020, '大数据与智', '计'),\n",
    "    (2020, '大数据与智', '计算'),\n",
    "    (2020, '大数据与智能工程学院', '计算机科'),\n",
    "    (2020, '大数据与智能工程学院', '计算机科学与技术'),\n",
    "    (2021, '大数据与智', '计'),\n",
    "    (2021, '大数据与智能工程学院', '计算机科'),\n",
    "    (2021, '大数据与智', '计算'),\n",
    "    (2021, '大数据与智能工程学院', '计算机科学与技术')\n",
    "]\n",
    "\n",
    "options = convert_to_cascader_options(data)\n",
    "print(options)\n"
   ],
   "metadata": {
    "collapsed": false,
    "ExecuteTime": {
     "end_time": "2024-04-26T07:54:09.895054Z",
     "start_time": "2024-04-26T07:54:09.869052Z"
    }
   },
   "id": "71f647a9f575ada7",
   "execution_count": 3
  },
  {
   "cell_type": "code",
   "outputs": [
    {
     "ename": "SyntaxError",
     "evalue": "invalid decimal literal (655499675.py, line 91)",
     "output_type": "error",
     "traceback": [
      "\u001B[1;36m  Cell \u001B[1;32mIn[1], line 91\u001B[1;36m\u001B[0m\n\u001B[1;33m    width: 200px;\u001B[0m\n\u001B[1;37m             ^\u001B[0m\n\u001B[1;31mSyntaxError\u001B[0m\u001B[1;31m:\u001B[0m invalid decimal literal\n"
     ]
    }
   ],
   "source": [
    "<template>\n",
    "  <div>\n",
    "    <el-row :gutter=\"20\">\n",
    "      <el-col :span=\"8\">\n",
    "        <div>\n",
    "          <el-cascader :options=\"options\" clearable @change=\"handleCascaderChange\" v-model=\"selectedValue\"\n",
    "                       size=\"large\"></el-cascader>\n",
    "        </div>\n",
    "      </el-col>\n",
    "      <el-col :span=\"16\">\n",
    "        <div class=\"headline\">\n",
    "          <h2>{{ selectedValueHeadline }}</h2>\n",
    "        </div>\n",
    "        <div class=\"grid-content bg-purple\" id=\"report_table\">\n",
    "\n",
    "        </div>\n",
    "      </el-col>\n",
    "    </el-row>\n",
    "  </div>\n",
    "</template>\n",
    "\n",
    "<script>\n",
    "import axios from 'axios';\n",
    "\n",
    "export default {\n",
    "  data() {\n",
    "    return {\n",
    "      options: null,\n",
    "      selectedValue: [],\n",
    "      reportData: null // Add reportData variable to hold fetched report data\n",
    "    };\n",
    "  },\n",
    "  computed: {\n",
    "    selectedValueHeadline() {\n",
    "      if (!this.selectedValue || this.selectedValue.length === 0) {\n",
    "        return 'No selection';\n",
    "      } else {\n",
    "        return 'Selected value: ' + this.selectedValue.join(' > ');\n",
    "      }\n",
    "    }\n",
    "  },\n",
    "  async created() {\n",
    "    await this.getOptions(); // Fetch options for the cascader\n",
    "    if (this.options && this.options.length > 0) {\n",
    "      // Set default selected values for cascader\n",
    "      const defaultGrade = this.options[0].value;\n",
    "      const defaultCollege = this.options[0].children[0].value;\n",
    "      const defaultMajor = this.options[0].children[0].children[0].value; // Assuming major is the third level\n",
    "\n",
    "      this.selectedValue = [defaultGrade, defaultCollege, defaultMajor];\n",
    "\n",
    "      // Fetch data based on the default selected value\n",
    "      await this.fetchReportData(defaultGrade, defaultCollege, defaultMajor); // Await the data fetch\n",
    "    }\n",
    "  },\n",
    "  methods: {\n",
    "    async getOptions() {\n",
    "      try {\n",
    "        const response = await axios.get('http://127.0.0.1:5000/get_options_of_grades_colleges_majors');\n",
    "        this.options = response.data;\n",
    "      } catch (error) {\n",
    "        console.error('Error fetching options:', error);\n",
    "      }\n",
    "    },\n",
    "    async handleCascaderChange(selectedValues) {\n",
    "      // Fetch data based on the selected values from cascader\n",
    "      const [grade, college, major] = selectedValues;\n",
    "      await this.fetchReportData(grade, college, major); // Await the data fetch\n",
    "    },\n",
    "    async fetchReportData(grade, college, major) {\n",
    "      try {\n",
    "        const url = `http://localhost:5000/get_rule_data_by_grade_college_major/${grade}/${college}/${major}`;\n",
    "        const response = await axios.get(url);\n",
    "        this.reportData = response.data; // Assign fetched data to reportData variable\n",
    "        console.log('Report data:', this.reportData);\n",
    "        // Handle the fetched rule data as needed (e.g., update state, display data)\n",
    "      } catch (error) {\n",
    "        console.error('Error fetching rule data:', error);\n",
    "        // Handle error (e.g., display error message)\n",
    "      }\n",
    "    }\n",
    "  }\n",
    "};\n",
    "</script>\n",
    "\n",
    "\n",
    "\n",
    "<style scoped>\n",
    "/* Your scoped styles here */\n",
    ".input_box {\n",
    "  width: 200px;\n",
    "}\n",
    "\n",
    ".headline {\n",
    "  margin-bottom: 20px;\n",
    "  font-size: 20px;\n",
    "  font-weight: bold;\n",
    "}\n",
    "</style>\n",
    "\n",
    "User\n",
    "In the div whose id is report-table, create a table to display the message from reportData. The table's containing name, sn, score, comprehensive, sum. Use some style to make the table more beautiful and harmonious with other parts of this template.\n",
    "\n",
    "The data's format is like [\n",
    "    {\n",
    "        \"college\": \"大数据与智\",\n",
    "        \"comprehensive\": \"0.00\",\n",
    "        \"date\": \"2024/04/12\",\n",
    "        \"grade\": 2020,\n",
    "        \"id\": 239,\n",
    "        \"major\": \"计算\",\n",
    "        \"name\": \"肖晨亮\",\n",
    "        \"public\": \"8.00\",\n",
    "        \"required\": \"151.30\",\n",
    "        \"score\": \"88.42\",\n",
    "        \"sn\": \"20180796485\",\n",
    "        \"specialized\": \"8.00\",\n",
    "        \"sum\": \"88.42\",\n",
    "        \"total\": \"167.30\"\n",
    "    },\n",
    "    {\n",
    "        \"college\": \"大数据与智\",\n",
    "        \"comprehensive\": \"0.00\",\n",
    "        \"date\": \"2024/04/12\",\n",
    "        \"grade\": 2020,\n",
    "        \"id\": 240,\n",
    "        \"major\": \"计算\",\n",
    "        \"name\": \"肖晨亮\",\n",
    "        \"public\": \"8.00\",\n",
    "        \"required\": \"151.30\",\n",
    "        \"score\": \"88.42\",\n",
    "        \"sn\": \"20180790951\",\n",
    "        \"specialized\": \"8.00\",\n",
    "        \"sum\": \"88.42\",\n",
    "        \"total\": \"167.30\"\n",
    "    }\n",
    "]"
   ],
   "metadata": {
    "collapsed": false,
    "ExecuteTime": {
     "end_time": "2024-04-26T14:39:49.713665Z",
     "start_time": "2024-04-26T14:39:49.609665Z"
    }
   },
   "id": "6d0943f0e279cf27",
   "execution_count": 1
  },
  {
   "cell_type": "code",
   "outputs": [],
   "source": [
    "<template>\n",
    "  <div>\n",
    "    <el-row :gutter=\"20\">\n",
    "      <el-col :span=\"8\">\n",
    "        <div>\n",
    "          <el-cascader :options=\"options\" clearable @change=\"handleCascaderChange\" v-model=\"selectedValue\"\n",
    "                       size=\"large\"></el-cascader>\n",
    "        </div>\n",
    "      </el-col>\n",
    "      <el-col :span=\"16\">\n",
    "        <div class=\"headline\">\n",
    "          <h2>{{ selectedValueHeadline }}</h2>\n",
    "        </div>\n",
    "        <div class=\"grid-content bg-purple\" id=\"report_table\">\n",
    "  <el-table\n",
    "    :data=\"reportData\"\n",
    "    v-loading=\"reportData === null\"\n",
    "    empty-text=\"No data available\"\n",
    "    style=\"width: 100%\"\n",
    "    stripe\n",
    "    border\n",
    "    :default-sort=\"{ prop: 'score', order: 'descending' }\"\n",
    "  >\n",
    "    <el-table-column prop=\"name\" label=\"Name\" align=\"center\"></el-table-column>\n",
    "    <el-table-column prop=\"sn\" label=\"SN\" align=\"center\"></el-table-column>\n",
    "    <el-table-column prop=\"score\" label=\"Score\" align=\"center\" sortable></el-table-column>\n",
    "    <el-table-column prop=\"comprehensive\" label=\"Comprehensive\" align=\"center\" sortable></el-table-column>\n",
    "    <el-table-column prop=\"sum\" label=\"Sum\" align=\"center\" sortable></el-table-column>\n",
    "  </el-table>\n",
    "</div>\n",
    "\n",
    "\n",
    "      </el-col>\n",
    "    </el-row>\n",
    "  </div>\n",
    "</template>\n",
    "\n",
    "<script>\n",
    "import axios from 'axios';\n",
    "\n",
    "export default {\n",
    "  data() {\n",
    "    return {\n",
    "      options: null,\n",
    "      selectedValue: [],\n",
    "      reportData: null // Add reportData variable to hold fetched report data\n",
    "    };\n",
    "  },\n",
    "  computed: {\n",
    "    selectedValueHeadline() {\n",
    "      if (!this.selectedValue || this.selectedValue.length === 0) {\n",
    "        return 'No selection';\n",
    "      } else {\n",
    "        return 'Selected value: ' + this.selectedValue.join(' > ');\n",
    "      }\n",
    "    }\n",
    "  },\n",
    "  async created() {\n",
    "    await this.getOptions(); // Fetch options for the cascader\n",
    "    if (this.options && this.options.length > 0) {\n",
    "      // Set default selected values for cascader\n",
    "      const defaultGrade = this.options[0].value;\n",
    "      const defaultCollege = this.options[0].children[0].value;\n",
    "      const defaultMajor = this.options[0].children[0].children[0].value; // Assuming major is the third level\n",
    "\n",
    "      this.selectedValue = [defaultGrade, defaultCollege, defaultMajor];\n",
    "\n",
    "      // Fetch data based on the default selected value\n",
    "      await this.fetchReportData(defaultGrade, defaultCollege, defaultMajor); // Await the data fetch\n",
    "    }\n",
    "  },\n",
    "  methods: {\n",
    "    async getOptions() {\n",
    "      try {\n",
    "        const response = await axios.get('http://127.0.0.1:5000/get_options_of_grades_colleges_majors');\n",
    "        this.options = response.data;\n",
    "      } catch (error) {\n",
    "        console.error('Error fetching options:', error);\n",
    "      }\n",
    "    },\n",
    "    async handleCascaderChange(selectedValues) {\n",
    "      // Fetch data based on the selected values from cascader\n",
    "      const [grade, college, major] = selectedValues;\n",
    "      await this.fetchReportData(grade, college, major); // Await the data fetch\n",
    "    },\n",
    "    async fetchReportData(grade, college, major) {\n",
    "      try {\n",
    "        const url = `http://localhost:5000/get_rule_data_by_grade_college_major/${grade}/${college}/${major}`;\n",
    "        const response = await axios.get(url);\n",
    "        this.reportData = response.data; // Assign fetched data to reportData variable\n",
    "        console.log('Report data:', this.reportData);\n",
    "        // Handle the fetched rule data as needed (e.g., update state, display data)\n",
    "      } catch (error) {\n",
    "        console.error('Error fetching rule data:', error);\n",
    "        // Handle error (e.g., display error message)\n",
    "      }\n",
    "    }\n",
    "  }\n",
    "};\n",
    "</script>\n",
    "\n",
    "\n",
    "<style scoped>\n",
    "/* Your scoped styles here */\n",
    ".input_box {\n",
    "  width: 200px;\n",
    "}\n",
    "\n",
    ".headline {\n",
    "  margin-bottom: 20px;\n",
    "  font-size: 20px;\n",
    "  font-weight: bold;\n",
    "}\n",
    "</style>\n"
   ],
   "metadata": {
    "collapsed": false
   },
   "id": "d38b09e01b48295f"
  }
 ],
 "metadata": {
  "kernelspec": {
   "display_name": "Python 3",
   "language": "python",
   "name": "python3"
  },
  "language_info": {
   "codemirror_mode": {
    "name": "ipython",
    "version": 2
   },
   "file_extension": ".py",
   "mimetype": "text/x-python",
   "name": "python",
   "nbconvert_exporter": "python",
   "pygments_lexer": "ipython2",
   "version": "2.7.6"
  }
 },
 "nbformat": 4,
 "nbformat_minor": 5
}
